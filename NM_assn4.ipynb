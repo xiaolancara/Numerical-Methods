{
 "cells": [
  {
   "cell_type": "code",
   "execution_count": 1,
   "metadata": {},
   "outputs": [],
   "source": [
    "import numpy as np"
   ]
  },
  {
   "cell_type": "code",
   "execution_count": 2,
   "metadata": {},
   "outputs": [],
   "source": [
    "def shiftedqr(a):\n",
    "    tol = 1.e-14\n",
    "    kounttol = 500\n",
    "    m = a.shape[0]\n",
    "    n = m-1\n",
    "    lam = np.zeros((m,1),dtype = complex)\n",
    "    \n",
    "    while n>0:\n",
    "        kount = 0\n",
    "        while max(abs(a[n,0:n])) > tol and kount < kounttol:\n",
    "            kount += 1     # keep track of number of qr's\n",
    "            mu = a[n,n]    # define shift mu\n",
    "            q,r = np.linalg.qr( a - mu*np.eye(n+1) )\n",
    "            a = np.dot(r,q) + mu*np.eye(n+1)\n",
    "            \n",
    "        if kount < kounttol:  # have isolated 1x1 block\n",
    "            lam[n]=a[n,n] # declare eigenvalue\n",
    "            n -= 1 # decrement n\n",
    "            a = a[:n+1,:n+1] # deflate by 1\n",
    "            \n",
    "        else: # have isolated 2x2 block\n",
    "            disc = complex(( a[-2,-2] - a[-1,-1] )**2 + 4*a[-1,-2]*a[-2,-1])\n",
    "            #print('n_complex', n)\n",
    "            lam[n]=( a[-2,-2] + a[-1,-1] + np.sqrt(disc))/2.\n",
    "            lam[n-1]=( a[-2,-2] + a[-1,-1] - np.sqrt(disc))/2.\n",
    "            n -= 2\n",
    "            a = a[:n+1,:n+1] # deflate by 2\n",
    "            \n",
    "    if n==0: \n",
    "        lam[0] = a[0,0] # only a 1x1 block remains\n",
    "    return lam"
   ]
  },
  {
   "cell_type": "code",
   "execution_count": 3,
   "metadata": {},
   "outputs": [
    {
     "data": {
      "text/plain": [
       "array([[-6.+0.j],\n",
       "       [-2.+0.j],\n",
       "       [ 4.+0.j]])"
      ]
     },
     "execution_count": 3,
     "metadata": {},
     "output_type": "execute_result"
    }
   ],
   "source": [
    "A = np.array([[-3, 3, 5], [1, -5, -5], [6, 6, 4]])\n",
    "shiftedqr(A)"
   ]
  },
  {
   "cell_type": "code",
   "execution_count": 4,
   "metadata": {},
   "outputs": [
    {
     "data": {
      "text/plain": [
       "array([[2.+0.j],\n",
       "       [4.+0.j],\n",
       "       [6.+0.j]])"
      ]
     },
     "execution_count": 4,
     "metadata": {},
     "output_type": "execute_result"
    }
   ],
   "source": [
    "B = np.array([[3, 1, 2], [1, 3, -2], [2, 2, 6]])\n",
    "shiftedqr(B)"
   ]
  },
  {
   "cell_type": "code",
   "execution_count": 5,
   "metadata": {},
   "outputs": [
    {
     "data": {
      "text/plain": [
       "array([[16.+0.j],\n",
       "       [18.+0.j],\n",
       "       [20.+0.j]])"
      ]
     },
     "execution_count": 5,
     "metadata": {},
     "output_type": "execute_result"
    }
   ],
   "source": [
    "C = np.array([[17, 1, 2], [1, 17, -2], [2, 2, 20]])\n",
    "shiftedqr(C)"
   ]
  },
  {
   "cell_type": "code",
   "execution_count": 6,
   "metadata": {},
   "outputs": [
    {
     "data": {
      "text/plain": [
       "array([[10.+0.j],\n",
       "       [ 1.+0.j],\n",
       "       [ 2.+0.j]])"
      ]
     },
     "execution_count": 6,
     "metadata": {},
     "output_type": "execute_result"
    }
   ],
   "source": [
    "D = np.array([[-7, -8, 1], [17, 18, -1], [-8, -8, 2]])\n",
    "shiftedqr(D)"
   ]
  },
  {
   "cell_type": "code",
   "execution_count": 7,
   "metadata": {},
   "outputs": [
    {
     "data": {
      "text/plain": [
       "array([[2.99997556+0.00000000e+00j],\n",
       "       [3.00001222-1.56707604e-05j],\n",
       "       [3.00001222+1.56707604e-05j]])"
      ]
     },
     "execution_count": 7,
     "metadata": {},
     "output_type": "execute_result"
    }
   ],
   "source": [
    "E = np.array([[-1, 1, 3], [3, 3, -2], [-5, 2, 7]])\n",
    "shiftedqr(E)"
   ]
  },
  {
   "cell_type": "code",
   "execution_count": 8,
   "metadata": {},
   "outputs": [
    {
     "data": {
      "text/plain": [
       "array([[10.+0.j],\n",
       "       [ 9.+0.j],\n",
       "       [ 1.+0.j]])"
      ]
     },
     "execution_count": 8,
     "metadata": {},
     "output_type": "execute_result"
    }
   ],
   "source": [
    "F = np.array([[7, -33, -15], [2, 26, 7], [-4, -50, -13]])\n",
    "shiftedqr(F)"
   ]
  },
  {
   "cell_type": "code",
   "execution_count": 9,
   "metadata": {},
   "outputs": [
    {
     "data": {
      "text/plain": [
       "array([[ 3.+0.j],\n",
       "       [ 3.+0.j],\n",
       "       [18.+0.j]])"
      ]
     },
     "execution_count": 9,
     "metadata": {},
     "output_type": "execute_result"
    }
   ],
   "source": [
    "G = np.array([[8, 0, 5], [-5, 3, -5], [10, 0, 13]])\n",
    "shiftedqr(G)"
   ]
  },
  {
   "cell_type": "code",
   "execution_count": 10,
   "metadata": {},
   "outputs": [
    {
     "data": {
      "text/plain": [
       "array([[ 2.+0.j        ],\n",
       "       [-1.-1.73205081j],\n",
       "       [-1.+1.73205081j]])"
      ]
     },
     "execution_count": 10,
     "metadata": {},
     "output_type": "execute_result"
    }
   ],
   "source": [
    "H = np.array([[-3, -1, 1], [5, 3, -1], [-2, 2, 0]])\n",
    "shiftedqr(H)"
   ]
  },
  {
   "cell_type": "code",
   "execution_count": 11,
   "metadata": {},
   "outputs": [
    {
     "data": {
      "text/plain": [
       "array([[8.8817842e-15-1.j],\n",
       "       [8.8817842e-15+1.j],\n",
       "       [2.0000000e+00+0.j]])"
      ]
     },
     "execution_count": 11,
     "metadata": {},
     "output_type": "execute_result"
    }
   ],
   "source": [
    "I = np.array([[4, 3, 1], [-5, -3, 0], [3, 2, 1]])\n",
    "shiftedqr(I)"
   ]
  },
  {
   "cell_type": "code",
   "execution_count": 12,
   "metadata": {},
   "outputs": [
    {
     "data": {
      "text/plain": [
       "array([[-3.71924713e-15-1.j],\n",
       "       [-3.71924713e-15+1.j],\n",
       "       [ 1.00000000e+00+0.j]])"
      ]
     },
     "execution_count": 12,
     "metadata": {},
     "output_type": "execute_result"
    }
   ],
   "source": [
    "J = np.array([[3, 2, 0], [-4, -2, 1], [2, 1, 0]])\n",
    "shiftedqr(J)"
   ]
  },
  {
   "cell_type": "code",
   "execution_count": 13,
   "metadata": {},
   "outputs": [
    {
     "data": {
      "text/plain": [
       "array([[2.-3.j],\n",
       "       [2.+3.j],\n",
       "       [1.+0.j]])"
      ]
     },
     "execution_count": 13,
     "metadata": {},
     "output_type": "execute_result"
    }
   ],
   "source": [
    "K = np.array([[7, 2, -4], [-8, 0, 7], [2, -1, -2]])\n",
    "shiftedqr(K)"
   ]
  },
  {
   "cell_type": "code",
   "execution_count": 14,
   "metadata": {},
   "outputs": [
    {
     "data": {
      "text/plain": [
       "array([[4.-3.j],\n",
       "       [4.+3.j],\n",
       "       [5.+0.j]])"
      ]
     },
     "execution_count": 14,
     "metadata": {},
     "output_type": "execute_result"
    }
   ],
   "source": [
    "L = np.array([[11, 4, -2], [-10, 0, 5], [4, 1, 2]])\n",
    "shiftedqr(L)"
   ]
  },
  {
   "cell_type": "code",
   "execution_count": null,
   "metadata": {},
   "outputs": [],
   "source": []
  }
 ],
 "metadata": {
  "kernelspec": {
   "display_name": "Python 3",
   "language": "python",
   "name": "python3"
  },
  "language_info": {
   "codemirror_mode": {
    "name": "ipython",
    "version": 3
   },
   "file_extension": ".py",
   "mimetype": "text/x-python",
   "name": "python",
   "nbconvert_exporter": "python",
   "pygments_lexer": "ipython3",
   "version": "3.8.3"
  }
 },
 "nbformat": 4,
 "nbformat_minor": 4
}

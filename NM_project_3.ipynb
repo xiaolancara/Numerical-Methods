{
 "cells": [
  {
   "cell_type": "markdown",
   "metadata": {},
   "source": [
    "# Project 3\n",
    "\n",
    "Using SVD to compress an image. \n",
    "\n",
    "- a.The percentage of the storage memory used for p singular values versus the storage memory used for the original picture, for various values of p. \n",
    "- b.The error between the matrix A storing the original image and the reduced matrix A_p obtained when the first p singular values are used."
   ]
  },
  {
   "cell_type": "code",
   "execution_count": 1,
   "metadata": {},
   "outputs": [],
   "source": [
    "import matplotlib.pyplot as plt\n",
    "import numpy as np\n",
    "from PIL import Image\n",
    "from ipywidgets import interact\n",
    "from skimage import data\n",
    "%matplotlib inline"
   ]
  },
  {
   "cell_type": "code",
   "execution_count": 2,
   "metadata": {},
   "outputs": [],
   "source": [
    "gray_images = {\n",
    "    'Einstein': np.asarray(Image.open(\"data\\image\\Einstein_tongue.jpg\")),\n",
    "     'camera': data.camera(),\n",
    "     'coins': data.coins()\n",
    "}\n",
    "color_images = {\n",
    "    'girl_small': np.asarray(Image.open(\"data\\image\\girl_small.jpg\")),\n",
    "    'cara': np.asarray(Image.open(\"data\\image\\cara.jpg\")),\n",
    "    'man': np.asarray(Image.open(\"data\\image\\man.jpeg\"))\n",
    "}"
   ]
  },
  {
   "cell_type": "code",
   "execution_count": 3,
   "metadata": {},
   "outputs": [],
   "source": [
    "def compress_svd(img, p):\n",
    "    # Perform SVD using np.linalg.svd\n",
    "    U, s, V = np.linalg.svd(img, full_matrices=False) \n",
    "    reconst_matrix = np.dot(U[:,:p],np.dot(np.diag(s[:p]),V[:p,:]))\n",
    "    return reconst_matrix, s\n",
    "\n",
    "def compress_gray_images(img_name,Mode):\n",
    "    error_list = []\n",
    "    img_list = []\n",
    "    p_list = []\n",
    "    compression_ratio_list = []\n",
    "    \n",
    "    image = gray_images[img_name]\n",
    "    m = image.shape[0]\n",
    "    n = image.shape[1]\n",
    "    max_p  =int((m*n)/(m+n+1))\n",
    "    i = 0\n",
    "    for group in Mode:\n",
    "        for p in Mode[group]:\n",
    "            if p > max_p:\n",
    "                print('compress value k should be less than',max_p)\n",
    "                return\n",
    "\n",
    "            reconstruct_img, s = compress_svd(image, p)\n",
    "            compression_ratio = ((p*(m+n+1))/(m*n)) *100.0\n",
    "            error = sum(sum((image-reconstruct_img)**2))\n",
    "            \n",
    "            img_list.append(reconstruct_img)\n",
    "            p_list.append(p)\n",
    "            compression_ratio_list.append(compression_ratio)\n",
    "            error_list.append(error)\n",
    "\n",
    "    f_img = plt.figure(figsize=(15,15))\n",
    "    for i in range(len(img_list)):\n",
    "        f_img.add_subplot(len(Mode), len(Mode[group]), i+1)\n",
    "        plt.title('compression ratio = {:.2f}%\\n original image: {:d} bytes\\n mode {:d}: {:d} bytes\\n error: {:}'.format\\\n",
    "                  (compression_ratio_list[i],(m*n),p_list[i],((p_list[i]*(m+n+1))),error_list[i]))\n",
    "        plt.imshow(img_list[i])\n",
    "    plt.tight_layout()\n",
    "    \n",
    "    f_error, ax_error = plt.subplots()\n",
    "    ax_error.set_title('{:} image Error'.format(img_name))\n",
    "    ax_error.set_xlabel('Number of Single Values used')\n",
    "    ax_error.set_ylabel('Error between compress and original image')\n",
    "    ax_error.plot(p_list,error_list)\n",
    "    \n",
    "def compress_color_images(img_name,Mode):\n",
    "    error_list = []\n",
    "    img_list = []\n",
    "    p_list = []\n",
    "    compression_ratio_list = []\n",
    "    \n",
    "    image = color_images[img_name]\n",
    "    m = image.shape[0]\n",
    "    n = image.shape[1]\n",
    "    max_p  =int((m*n)/(m+n+1))\n",
    "    i = 0\n",
    "   \n",
    "    # splitting the array into three 2D array (svd only apply on 2D array)\n",
    "    r = image[:,:,0]  # array for R\n",
    "    g = image[:,:,1]  # array for G\n",
    "    b = image[:,:,2]  # array for B\n",
    "    for group in Mode:\n",
    "        for p in Mode[group]:\n",
    "            if p > max_p:\n",
    "                print('compress value k should be less than',max_p)\n",
    "                return\n",
    "            # Calculating the svd components for all three arrays\n",
    "            rr, sr = compress_svd(r,p)\n",
    "            rg, sg = compress_svd(g,p)\n",
    "            rb, sb = compress_svd(b,p)\n",
    "\n",
    "            # Creating a array of zeroes; shape will be same as of image matrix\n",
    "            rimg = np.zeros(image.shape)\n",
    "            # Adding matrix for R, G & B in created array\n",
    "            rimg[:,:,0] = rr\n",
    "            rimg[:,:,1] = rg\n",
    "            rimg[:,:,2] = rb\n",
    "            \n",
    "            # It will check if any value will be less than 0 will be converted to its absolute\n",
    "            # and, if any value is greater than 255 than it will be converted to 255\n",
    "            # because in image array of unit8 can only have value between 0 & 255\n",
    "            for ind1, row in enumerate(rimg):\n",
    "                for ind2, col in enumerate(row):\n",
    "                    for ind3, value in enumerate(col):\n",
    "                        if value < 0:\n",
    "                            rimg[ind1,ind2,ind3] = abs(value)\n",
    "                        if value > 255:\n",
    "                            rimg[ind1,ind2,ind3] = 255\n",
    "\n",
    "            # converting the compress image array to uint8 type for further conversion into image object\n",
    "            reconstruct_img = rimg.astype(np.uint8)\n",
    "            compression_ratio = (p*(m+n+1))/(m*n)*100\n",
    "            error = np.linalg.norm(image-reconstruct_img)\n",
    "            \n",
    "            img_list.append(reconstruct_img)\n",
    "            p_list.append(p)\n",
    "            compression_ratio_list.append(compression_ratio)\n",
    "            error_list.append(error)\n",
    "    \n",
    "    f_img = plt.figure(figsize=(15,15))\n",
    "    for i in range(len(img_list)):\n",
    "        f_img.add_subplot(len(Mode), len(Mode[group]), i+1)\n",
    "        plt.title('compression ratio = {:.2f}%\\n original image: {:d} bytes\\n mode {:d}: {:d} bytes\\n error: {:}'.format\\\n",
    "                  (compression_ratio_list[i],(m*n),p_list[i],((p_list[i]*(m+n+1))),error_list[i]))\n",
    "        plt.imshow(img_list[i])\n",
    "    plt.tight_layout()\n",
    "    \n",
    "    f_error, ax_error = plt.subplots()\n",
    "    ax_error.set_title('{:} image Error'.format(img_name))\n",
    "    ax_error.set_xlabel('Number of Single Values used')\n",
    "    ax_error.set_ylabel('Error between compress and original image')\n",
    "    ax_error.plot(p_list,error_list)\n",
    "    plt.tight_layout()\n"
   ]
  },
  {
   "cell_type": "code",
   "execution_count": 4,
   "metadata": {},
   "outputs": [
    {
     "data": {
      "text/plain": [
       "442"
      ]
     },
     "execution_count": 4,
     "metadata": {},
     "output_type": "execute_result"
    }
   ],
   "source": [
    "# return original image max singular value\n",
    "def get_max_p(image_name, image_type = 'color'):\n",
    "    if image_type == 'color':\n",
    "        image = color_images[image_name]\n",
    "    elif image_type == 'gray':\n",
    "        image = gray_images[image_name]\n",
    "    else:\n",
    "        return 'please set your image type as color or gray'\n",
    "    m = image.shape[0]\n",
    "    n = image.shape[1]\n",
    "    max_p  =int((m*n)/(m+n+1))\n",
    "    return max_p\n",
    "get_max_p('cara','color')"
   ]
  },
  {
   "cell_type": "code",
   "execution_count": 5,
   "metadata": {},
   "outputs": [
    {
     "data": {
      "application/vnd.jupyter.widget-view+json": {
       "model_id": "44ae0620e80c4c868283ffea9fa0ba9d",
       "version_major": 2,
       "version_minor": 0
      },
      "text/plain": [
       "interactive(children=(Dropdown(description='img_name', options=('Einstein', 'camera', 'coins'), value='Einstei…"
      ]
     },
     "metadata": {},
     "output_type": "display_data"
    }
   ],
   "source": [
    "p_Mode_einstein = {1:[1, 2, 4, 6],2:[8, 10, 12, 14],3:[16, 18, 20, 25],4:[50, 75, 100, 121]}\n",
    "p_Mode_camera = {1:[1, 20, 40, 60],2:[80, 100, 120, 140],3:[160, 180, 230, 255]}\n",
    "p_Mode_coins = {1:[1, 2, 4, 6],2:[8, 10, 12, 14],3:[16, 18, 20, 25],4:[50, 80, 130, 169]}\n",
    "@interact\n",
    "def show_images(img_name = list(gray_images.keys())):\n",
    "    if img_name == 'Einstein':\n",
    "        p_Mode = p_Mode_einstein\n",
    "    elif img_name == 'camera':\n",
    "        p_Mode = p_Mode_camera\n",
    "    elif img_name == 'coins':\n",
    "        p_Mode = p_Mode_coins\n",
    "    compress_gray_images(img_name = img_name, Mode = p_Mode)\n",
    "    "
   ]
  },
  {
   "cell_type": "code",
   "execution_count": 6,
   "metadata": {},
   "outputs": [
    {
     "data": {
      "application/vnd.jupyter.widget-view+json": {
       "model_id": "96958d08e1c449e3991634d9f4294811",
       "version_major": 2,
       "version_minor": 0
      },
      "text/plain": [
       "interactive(children=(Dropdown(description='img_name', options=('girl_small', 'cara', 'man'), value='girl_smal…"
      ]
     },
     "metadata": {},
     "output_type": "display_data"
    }
   ],
   "source": [
    "p_Mode_girl_small = {1:[1, 2, 4, 6],2:[8, 10, 12, 14],3:[16, 18, 20, 25],4:[50, 60, 70, 74]}\n",
    "p_Mode_cara = {1:[1, 20, 40, 60],2:[100, 150, 200, 250],3:[300, 350, 400, 442]}\n",
    "p_Mode_man = {1:[1, 20, 40, 60],2:[80, 100, 120, 140],3:[160, 180, 200, 230]}\n",
    "@interact\n",
    "def show_images(img_name = list(color_images.keys())):\n",
    "    if img_name == 'girl_small':\n",
    "        p_Mode = p_Mode_girl_small\n",
    "    elif img_name == 'cara':\n",
    "        p_Mode = p_Mode_cara\n",
    "    elif img_name == 'man':\n",
    "        p_Mode = p_Mode_man\n",
    "    compress_color_images(img_name = img_name, Mode = p_Mode)"
   ]
  }
 ],
 "metadata": {
  "kernelspec": {
   "display_name": "Python 3",
   "language": "python",
   "name": "python3"
  },
  "language_info": {
   "codemirror_mode": {
    "name": "ipython",
    "version": 3
   },
   "file_extension": ".py",
   "mimetype": "text/x-python",
   "name": "python",
   "nbconvert_exporter": "python",
   "pygments_lexer": "ipython3",
   "version": "3.8.3"
  }
 },
 "nbformat": 4,
 "nbformat_minor": 4
}

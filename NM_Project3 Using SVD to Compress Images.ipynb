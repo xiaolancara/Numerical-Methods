{
 "cells": [
  {
   "cell_type": "markdown",
   "metadata": {},
   "source": [
    "# Project 3 Using SVD to Compress Images\n",
    "__Team Member: Xiaolan Li__"
   ]
  },
  {
   "cell_type": "markdown",
   "metadata": {},
   "source": [
    "## Introduction\n",
    "All images we are looking at are a mixture of the colors red, green, and blue displayed by extremely small pixels on the screen. These red, green, and blue pixels range in saturation on a scale of 0 to 255; 0 being completely off, and 255 being completely on. A picture can actually be represented as data in a matrix. This project mainly uses SVD to compress gray layer and color images matrix. What I can actually do to save memory on our image is to compute the SVD and then calculate\n",
    "some level of precision. The results will be calculated are as follows:\n",
    "- a. The percentage of the storage memory used for p singular values versus the storage memory used for the original picture, for various values of p. \n",
    "- b. The error between the matrix A storing the original image and the reduced matrix A_p obtained when the first p singular values are used.\n",
    "\n",
    "I'll use Python to write a program that lets users interactively select the image that they want to load, turn the pixel values of the grayscale/color image into a matrix, compute the SVD for us, and then convert our new matrix back into an image for our viewing pleasure with different compressed values which is called 'p_Mode' in this project. The results will be output the compressed images with different p_Mode values, storage bytes of original image and compressed image, the Compression ratio and Error between reduced matrix and original matrix."
   ]
  },
  {
   "attachments": {
    "1a8e3c8a-f76f-4bfb-9f66-e17bca84f0ff.png": {
     "image/png": "[encoded data removed]"
    }
   },
   "cell_type": "markdown",
   "metadata": {},
   "source": [
    "## Methodology\n",
    "\n",
    "![image.png](attachment:1a8e3c8a-f76f-4bfb-9f66-e17bca84f0ff.png)\n",
    "\n",
    "where U and V are orthogonal matrices and the the matrix Σ consists of descending non-negative values on its diagonal and zeros elsewhere. The entries σ1 ≥ σ2 ≥ σ3 ≥ … ≥ 0 on the diagonal of Σ are called the singular values (SVs) of A.\n",
    "\n",
    "`Formulas:`\n",
    "\n",
    "SVD: __𝐴 = 𝑈Σ𝑉T__\n",
    "\n",
    "Max singular value of original image: __max_p = (m * n)/(m+n+1)__\n",
    "\n",
    "Compressed size: __m * k+k+k * n = k * (1+m +n)__\n",
    "\n",
    "Pixel of original image: __m * n__\n",
    "\n",
    "Compression ratio: __((p * (m+n+1))/(m * n)) * 100.0 %__\n",
    "\n",
    "Error between matrix A storing the original image and the reduced matrix A_p: __sum(sum((A-A_p)^2))__\n",
    "\n",
    "`Using SVD for gray layer image compression:` Gray layer image is a two dimensional matrix of either R, G or B layer.  I'll choose a number p of singular values to use for the approximation in SVD. The p value in each matrix is stored in a dict named p_Mode in this project. Finally, I'll return the decompressed matrix, which is new approximate image, and then I'll calculate the Compression ratio and Error between reduced matrix and original matrix and plot them out.\n",
    "\n",
    "`Using SVD for color image compression:` Color image is a three dimensional array matrix. I can decompose a given image into the three color channels red, green and blue. Each channel can be represented as a (m × n)‑matrix with values ranging from 0 to 255. Then I will compress the matrix A representing one of the channels. To do this, I compute an approximation to the matrix A that takes only a fraction of the space to store. I'll choose a number p of singular values that I'm going to use for the approximation. The p value in each matrix is stored in a dict named p_Mode in this project. Finally, adding matrix for R, G & B in new array to get back into a color image for viewing. Before viewing, I'll check if any value will be less than 0 will be converted to its absolute and, if any value is greater than 255 than it will be converted to 255 because in image array of unit8 can only have value between 0 & 255. And then I'll calculate the Compression ratio and Error between reduced matrix and original matrix and plot them out."
   ]
  },
  {
   "cell_type": "markdown",
   "metadata": {},
   "source": [
    "## Computer Experiments/Simulations and Results"
   ]
  },
  {
   "cell_type": "code",
   "execution_count": 1,
   "metadata": {},
   "outputs": [],
   "source": [
    "import matplotlib.pyplot as plt\n",
    "import numpy as np\n",
    "from PIL import Image\n",
    "from ipywidgets import interact\n",
    "from skimage import data\n",
    "%matplotlib inline"
   ]
  },
  {
   "cell_type": "code",
   "execution_count": 2,
   "metadata": {},
   "outputs": [],
   "source": [
    "gray_images = {\n",
    "    'Einstein': np.asarray(Image.open(\"data\\image\\Einstein_tongue.jpg\")),\n",
    "     'camera': data.camera(),\n",
    "     'coins': data.coins()\n",
    "}\n",
    "color_images = {\n",
    "    'Cara': np.asarray(Image.open(\"data\\image\\Cara.jpg\")),\n",
    "    'girl_small': np.asarray(Image.open(\"data\\image\\girl_small.jpg\")),\n",
    "    'man': np.asarray(Image.open(\"data\\image\\man.jpeg\"))\n",
    "}"
   ]
  },
  {
   "cell_type": "code",
   "execution_count": 3,
   "metadata": {},
   "outputs": [],
   "source": [
    "def compress_svd(img, p):\n",
    "    # Perform SVD using np.linalg.svd\n",
    "    U, s, V = np.linalg.svd(img, full_matrices=False) \n",
    "    reconst_matrix = np.dot(U[:,:p],np.dot(np.diag(s[:p]),V[:p,:]))\n",
    "    return reconst_matrix, s\n",
    "\n",
    "def compress_gray_images(img_name,Mode):\n",
    "    error_list = []\n",
    "    img_list = []\n",
    "    p_list = []\n",
    "    compression_ratio_list = []\n",
    "    \n",
    "    image = gray_images[img_name]\n",
    "    m = image.shape[0]\n",
    "    n = image.shape[1]\n",
    "    max_p  =int((m*n)/(m+n+1))\n",
    "    i = 0\n",
    "    for group in Mode:\n",
    "        for p in Mode[group]:\n",
    "            if p > max_p:\n",
    "                print('compress value k should be less than',max_p)\n",
    "                return\n",
    "\n",
    "            reconstruct_img, s = compress_svd(image, p)\n",
    "            compression_ratio = ((p*(m+n+1))/(m*n)) *100.0\n",
    "            error = sum(sum((image-reconstruct_img)**2))\n",
    "            \n",
    "            img_list.append(reconstruct_img)\n",
    "            p_list.append(p)\n",
    "            compression_ratio_list.append(compression_ratio)\n",
    "            error_list.append(error)\n",
    "\n",
    "    f_img = plt.figure(figsize=(15,15))\n",
    "    for i in range(len(img_list)):\n",
    "        f_img.add_subplot(len(Mode), len(Mode[group]), i+1)\n",
    "        plt.title('compression ratio = {:.2f}%\\n original image: {:d} bytes\\n mode {:d}: {:d} bytes\\n error: {:}'.format\\\n",
    "                  (compression_ratio_list[i],(m*n),p_list[i],((p_list[i]*(m+n+1))),error_list[i]))\n",
    "        plt.imshow(img_list[i])\n",
    "    plt.tight_layout()\n",
    "    \n",
    "    f_error, ax_error = plt.subplots()\n",
    "    ax_error.set_title('{:} image Error'.format(img_name))\n",
    "    ax_error.set_xlabel('Number of Single Values used')\n",
    "    ax_error.set_ylabel('Error between compress and original image')\n",
    "    ax_error.plot(p_list,error_list)\n",
    "    \n",
    "def compress_color_images(img_name,Mode):\n",
    "    error_list = []\n",
    "    img_list = []\n",
    "    p_list = []\n",
    "    compression_ratio_list = []\n",
    "    \n",
    "    image = color_images[img_name]\n",
    "    m = image.shape[0]\n",
    "    n = image.shape[1]\n",
    "    max_p  =int((m*n)/(m+n+1))\n",
    "    i = 0\n",
    "   \n",
    "    # splitting the array into three 2D array (svd only apply on 2D array)\n",
    "    r = image[:,:,0]  # array for R\n",
    "    g = image[:,:,1]  # array for G\n",
    "    b = image[:,:,2]  # array for B\n",
    "    for group in Mode:\n",
    "        for p in Mode[group]:\n",
    "            if p > max_p:\n",
    "                print('compress value k should be less than',max_p)\n",
    "                return\n",
    "            # Calculating the svd components for all three arrays\n",
    "            rr, sr = compress_svd(r,p)\n",
    "            rg, sg = compress_svd(g,p)\n",
    "            rb, sb = compress_svd(b,p)\n",
    "\n",
    "            # Creating a array of zeroes; shape will be same as of image matrix\n",
    "            rimg = np.zeros(image.shape)\n",
    "            # Adding matrix for R, G & B in created array\n",
    "            rimg[:,:,0] = rr\n",
    "            rimg[:,:,1] = rg\n",
    "            rimg[:,:,2] = rb\n",
    "            \n",
    "            # It will check if any value will be less than 0 will be converted to its absolute\n",
    "            # and, if any value is greater than 255 than it will be converted to 255\n",
    "            # because in image array of unit8 can only have value between 0 & 255\n",
    "            for ind1, row in enumerate(rimg):\n",
    "                for ind2, col in enumerate(row):\n",
    "                    for ind3, value in enumerate(col):\n",
    "                        if value < 0:\n",
    "                            rimg[ind1,ind2,ind3] = abs(value)\n",
    "                        if value > 255:\n",
    "                            rimg[ind1,ind2,ind3] = 255\n",
    "\n",
    "            # converting the compress image array to uint8 type for further conversion into image object\n",
    "            reconstruct_img = rimg.astype(np.uint8)\n",
    "            compression_ratio = (p*(m+n+1))/(m*n)*100\n",
    "            error = np.linalg.norm(image-reconstruct_img)\n",
    "            \n",
    "            img_list.append(reconstruct_img)\n",
    "            p_list.append(p)\n",
    "            compression_ratio_list.append(compression_ratio)\n",
    "            error_list.append(error)\n",
    "    \n",
    "    f_img = plt.figure(figsize=(15,15))\n",
    "    for i in range(len(img_list)):\n",
    "        f_img.add_subplot(len(Mode), len(Mode[group]), i+1)\n",
    "        plt.title('compression ratio = {:.2f}%\\n original image: {:d} bytes\\n mode {:d}: {:d} bytes\\n error: {:}'.format\\\n",
    "                  (compression_ratio_list[i],(m*n),p_list[i],((p_list[i]*(m+n+1))),error_list[i]))\n",
    "        plt.imshow(img_list[i])\n",
    "    plt.tight_layout()\n",
    "    \n",
    "    f_error, ax_error = plt.subplots()\n",
    "    ax_error.set_title('{:} image Error'.format(img_name))\n",
    "    ax_error.set_xlabel('Number of Single Values used')\n",
    "    ax_error.set_ylabel('Error between compress and original image')\n",
    "    ax_error.plot(p_list,error_list)\n",
    "    plt.tight_layout()\n"
   ]
  },
  {
   "cell_type": "code",
   "execution_count": 4,
   "metadata": {},
   "outputs": [
    {
     "name": "stdout",
     "output_type": "stream",
     "text": [
      "Einstein  (274, 220, 121)\n",
      "Cara  (956, 826, 442)\n"
     ]
    }
   ],
   "source": [
    "# return original image max singular value\n",
    "def get_max_p(image_name, image_type = 'color'):\n",
    "    if image_type == 'color':\n",
    "        image = color_images[image_name]\n",
    "    elif image_type == 'gray':\n",
    "        image = gray_images[image_name]\n",
    "    else:\n",
    "        return 'please set your image type as color or gray'\n",
    "    m = image.shape[0]\n",
    "    n = image.shape[1]\n",
    "    max_p  =int((m*n)/(m+n+1))\n",
    "    return m,n,max_p\n",
    "print('Einstein ',get_max_p('Einstein','gray'))\n",
    "print('Cara ',get_max_p('Cara','color'))"
   ]
  },
  {
   "cell_type": "code",
   "execution_count": 5,
   "metadata": {},
   "outputs": [
    {
     "data": {
      "application/vnd.jupyter.widget-view+json": {
       "model_id": "cf671a47410045d29f1d3ab491db0caf",
       "version_major": 2,
       "version_minor": 0
      },
      "text/plain": [
       "interactive(children=(Dropdown(description='img_name', options=('Einstein', 'camera', 'coins'), value='Einstei…"
      ]
     },
     "metadata": {},
     "output_type": "display_data"
    }
   ],
   "source": [
    "p_Mode_Einstein = {1:[1, 2, 4, 6],2:[8, 10, 12, 14],3:[16, 18, 20, 25],4:[50, 75, 100, 121]}\n",
    "p_Mode_camera = {1:[1, 20, 40, 60],2:[80, 100, 120, 140],3:[160, 180, 230, 255]}\n",
    "p_Mode_coins = {1:[1, 2, 4, 6],2:[8, 10, 12, 14],3:[16, 18, 20, 25],4:[50, 80, 130, 169]}\n",
    "@interact\n",
    "def show_images(img_name = list(gray_images.keys())):\n",
    "    if img_name == 'Einstein':\n",
    "        p_Mode = p_Mode_Einstein\n",
    "    elif img_name == 'camera':\n",
    "        p_Mode = p_Mode_camera\n",
    "    elif img_name == 'coins':\n",
    "        p_Mode = p_Mode_coins\n",
    "    compress_gray_images(img_name = img_name, Mode = p_Mode)\n",
    "    "
   ]
  },
  {
   "cell_type": "code",
   "execution_count": 6,
   "metadata": {},
   "outputs": [
    {
     "data": {
      "application/vnd.jupyter.widget-view+json": {
       "model_id": "60de0081b4824541965bdc0b759d78f1",
       "version_major": 2,
       "version_minor": 0
      },
      "text/plain": [
       "interactive(children=(Dropdown(description='img_name', options=('Cara', 'girl_small', 'man'), value='Cara'), O…"
      ]
     },
     "metadata": {},
     "output_type": "display_data"
    }
   ],
   "source": [
    "p_Mode_Cara = {1:[1, 2, 4, 6],2:[8, 10, 12, 14],3:[16, 18, 20, 25],4:[50, 75, 100, 442]}\n",
    "p_Mode_girl_small = {1:[1, 2, 4, 6],2:[8, 10, 12, 14],3:[16, 18, 20, 25],4:[50, 60, 70, 74]}\n",
    "p_Mode_man = {1:[1, 20, 40, 60],2:[80, 100, 120, 140],3:[160, 180, 200, 230]}\n",
    "@interact\n",
    "def show_images(img_name = list(color_images.keys())):\n",
    "    if img_name == 'Cara':\n",
    "        p_Mode = p_Mode_Cara\n",
    "    elif img_name == 'girl_small':\n",
    "        p_Mode = p_Mode_girl_small\n",
    "    elif img_name == 'man':\n",
    "        p_Mode = p_Mode_man\n",
    "    compress_color_images(img_name = img_name, Mode = p_Mode)"
   ]
  },
  {
   "cell_type": "markdown",
   "metadata": {},
   "source": [
    "## Conclusions\n",
    "\n",
    "For the gray layer image shown by `'Einstein'`, we see that the image size iss 274x220 pixels. By storing the image in its entirety, we can calculate that we would need to store 60,280 different pixel values. There're 4 rows images in the result. The image starts to look very decent along the bottom row,  the last images using modes 50, 75, and 100. By negating the size of Σ since it is so miniscule, we can calculate: \n",
    "\n",
    "- Original Image: 60,280 bytes\n",
    "- Mode 100: 49,500 bytes\n",
    "- Mode 75: 37,125 bytes\n",
    "- Mode 50: 24,750 bytes\n",
    "\n",
    "These modes actually do save on memory quite a bit, more than having the amount of memory used at mode 50, which is represented by the bottom left image. \n",
    "\n",
    "We can even graph the error involved in the image compression, or how badly the image differs from the original image. We can gather the data by measuring the error as the difference in our\n",
    "new image by the differences in our original image and plot it on a graph. The 'Einstein image error' graph starts to show a heavy turn at about 16 modes in, and starts to show a decent image approximately 25 modes in, 50 modes having an extremely low number or error, and 100 modes having a miniscule amount.\n",
    "\n",
    "---\n",
    "\n",
    "For the color image shown by `'Cara'`, we can treat the red-scale, green-scale, and blue-scale images just like we did with the grayscale image. This time the values 0 through 255 on our table represent only the saturation of that particular color. We can compute the SVD computation on each of these images separately, and then combine them back together to create our colored image. This image is pretty big, and as you can see, even just by 40 modes of precision, you have a very good idea of what you’re looking at. But to the average person, most people will think that modes 50-100 look relatively the same. The reason for the sharper contrast is because the SVD is very pattern oriented, so those natural patters in the image may show up a little stronger than in the original image. For an image that is 956x826 we have:\n",
    "\n",
    "- Original Image: 789,656 bytes\n",
    "- Mode 100: 178,300 bytes\n",
    "- Mode 75: 133,725 bytes\n",
    "- Mode 50: 89,150 bytes\n",
    "\n",
    "The error is using norm of three layers to plot, as the matrix is three dimensional. But we can still see that once we hit that certain point of precision such as 75 modes in this case, we ultimately can’t tell the difference between the compressed and the original image as the error rate becomes so minute, that in the large picture it really doesn’t matter."
   ]
  },
  {
   "cell_type": "markdown",
   "metadata": {},
   "source": [
    "## References cited\n",
    "\n",
    "https://citeseerx.ist.psu.edu/viewdoc/download?doi=10.1.1.1038.4532&rep=rep1&type=pdf\n",
    "\n",
    "http://www.math.utah.edu/~goller/F15_M2270/BradyMathews_SVDImage.pdf\n",
    "\n",
    "https://medium.com/@rameshputalapattu/jupyter-python-image-compression-and-svd-an-interactive-exploration-703c953e44f6\n",
    "\n",
    "http://timbaumann.info/svd-image-compression-demo/\n",
    "\n"
   ]
  },
  {
   "cell_type": "markdown",
   "metadata": {},
   "source": [
    "## The contribution of each team member to the project "
   ]
  }
 ],
 "metadata": {
  "kernelspec": {
   "display_name": "Python 3",
   "language": "python",
   "name": "python3"
  },
  "language_info": {
   "codemirror_mode": {
    "name": "ipython",
    "version": 3
   },
   "file_extension": ".py",
   "mimetype": "text/x-python",
   "name": "python",
   "nbconvert_exporter": "python",
   "pygments_lexer": "ipython3",
   "version": "3.8.3"
  }
 },
 "nbformat": 4,
 "nbformat_minor": 4
}

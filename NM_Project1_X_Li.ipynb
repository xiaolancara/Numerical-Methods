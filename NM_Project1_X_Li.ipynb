{
 "cells": [
  {
   "cell_type": "markdown",
   "metadata": {},
   "source": [
    "# Project 1 Robotic Arm\n",
    "Group Member: Chuyun Hu, Te Li, Xiaolan Li"
   ]
  },
  {
   "cell_type": "markdown",
   "metadata": {},
   "source": [
    "The Technical Report about this project from [here.](https://github.com/xiaolancara/Numerical-Methods/blob/main/Report%20about%20Project_01.docx)"
   ]
  },
  {
   "cell_type": "markdown",
   "metadata": {},
   "source": [
    "### 1. Define function f(Theta)"
   ]
  },
  {
   "cell_type": "code",
   "execution_count": 1,
   "metadata": {},
   "outputs": [],
   "source": [
    "import math\n",
    "\n",
    "def f_1(Theta,\n",
    "        L1 =2,# define fixed constants\n",
    "        L2=math.sqrt(2),\n",
    "        L3=math.sqrt(2),\n",
    "        x1 = 4,\n",
    "        x2 = 1,\n",
    "        y2 = 5,\n",
    "        P1=math.sqrt(5),# define various constants \n",
    "        P2=math.sqrt(5),\n",
    "        P3=math.sqrt(5),\n",
    "        Alfa=math.pi/2):\n",
    "\n",
    "    # methods\n",
    "    A2 = (-x1)+L3*math.cos(Theta)\n",
    "    B2 = L3*math.sin(Theta)\n",
    "    A3 = (-x2)+L2*math.cos(Theta)*math.cos(Alfa)-L2*math.sin(Theta)*math.sin(Alfa)\n",
    "    B3 = (-y2)+L2*math.sin(Theta)*math.cos(Alfa)+L2*math.cos(Theta)*math.sin(Alfa)\n",
    "    N1 = B3*(P2**2-P1**2-A2**2-B2**2)-B2*(P3**2-P1**2-A3**2-B3**2)\n",
    "    N2 = (-A3)*(P2**2-P1**2-A2**2-B2**2)+A2*(P3**2-P1**2-A3**2-B3**2)\n",
    "    D = 2*(A2*B3-A3*B2)\n",
    "    \n",
    "    x = N1/D\n",
    "    y = N2/D\n",
    "    fTheta = N1**2+N2**2-P1**2*D**2\n",
    "    return fTheta,x,y"
   ]
  },
  {
   "cell_type": "code",
   "execution_count": 2,
   "metadata": {},
   "outputs": [
    {
     "data": {
      "text/plain": [
       "-4.547473508864641e-13"
      ]
     },
     "execution_count": 2,
     "metadata": {},
     "output_type": "execute_result"
    }
   ],
   "source": [
    "# test function\n",
    "Theta = math.pi/(-4)\n",
    "\n",
    "f_1(Theta)[0]"
   ]
  },
  {
   "cell_type": "code",
   "execution_count": 3,
   "metadata": {},
   "outputs": [
    {
     "data": {
      "text/plain": [
       "1279.999999999999"
      ]
     },
     "execution_count": 3,
     "metadata": {},
     "output_type": "execute_result"
    }
   ],
   "source": [
    "# test function\n",
    "Theta = math.pi/(4)\n",
    "\n",
    "f_1(Theta)[0]"
   ]
  },
  {
   "cell_type": "markdown",
   "metadata": {},
   "source": [
    "### 2. Plot function in interval"
   ]
  },
  {
   "cell_type": "code",
   "execution_count": 4,
   "metadata": {},
   "outputs": [
    {
     "data": {
      "image/png": "[encoded data removed]",
      "text/plain": [
       "<Figure size 432x288 with 1 Axes>"
      ]
     },
     "metadata": {},
     "output_type": "display_data"
    }
   ],
   "source": [
    "import numpy as np \n",
    "import matplotlib.pyplot as plt\n",
    "\n",
    "plt.style.use('seaborn-whitegrid')\n",
    "ax = plt.axes()\n",
    "# 100 linearly spaced numbers\n",
    "x = np.linspace(-math.pi,math.pi,100)\n",
    "\n",
    "# using vectorize to accept a single element to every element in an array\n",
    "f2 = np.vectorize(f_1)\n",
    "y = f2(x)[0]\n",
    "\n",
    "# plot the function\n",
    "plt.plot(x,y, 'b')\n",
    "\n",
    "# show the plot\n",
    "plt.show()\n"
   ]
  },
  {
   "cell_type": "code",
   "execution_count": 5,
   "metadata": {},
   "outputs": [
    {
     "data": {
      "image/png": "[encoded data removed]",
      "text/plain": [
       "<Figure size 432x288 with 1 Axes>"
      ]
     },
     "metadata": {},
     "output_type": "display_data"
    }
   ],
   "source": [
    "# minimize the axes range to find the roots approximately\n",
    "plt.xlim([-1.5, 1])\n",
    "plt.ylim([-100, 100])\n",
    "\n",
    "# plot the function\n",
    "plt.plot(x,y, 'b')\n",
    "\n",
    "# show the plot\n",
    "plt.show()\n"
   ]
  },
  {
   "cell_type": "markdown",
   "metadata": {},
   "source": [
    "The approximate range of roots is -0.7 and 0.4 "
   ]
  },
  {
   "cell_type": "markdown",
   "metadata": {},
   "source": [
    "### 3. Find roots for function-Bisection Method"
   ]
  },
  {
   "cell_type": "code",
   "execution_count": 6,
   "metadata": {},
   "outputs": [],
   "source": [
    "def bisection(f, a, b, TOL):\n",
    "    if np.sign(f(a)[0])*np.sign(f(b)[0]) > 0: # sign is determin if symbol is -1, 0, or 1\n",
    "        print('f(a)f(b)<0 not satisfied') \n",
    "        return # stop execution\n",
    "    n=1\n",
    "    fa= f(a)[0]\n",
    "    fb= f(b)[0]            \n",
    "    while np.abs(a-b)>TOL:\n",
    "        c = (a+b)/2\n",
    "        fc=f(c)[0]   \n",
    "        n=n+1\n",
    "        if np.isclose(f(c)[0], 0):\n",
    "            print('Approximate  root', c, 'has been obtained in', n, 'steps')\n",
    "            return\n",
    "        if np.sign(fc)*np.sign(fa)<0:\n",
    "            b = c\n",
    "            fb=fc\n",
    "        else:\n",
    "            a = c\n",
    "            fa= fc\n",
    "    c=(a+b)/2\n",
    "    print('The final interval [', a, b, '] contains a root')\n",
    "    print('Approximate  root', c, 'has been obtained in', n, 'steps')\n",
    "    return c"
   ]
  },
  {
   "cell_type": "markdown",
   "metadata": {},
   "source": [
    "### 2 roots"
   ]
  },
  {
   "cell_type": "code",
   "execution_count": 7,
   "metadata": {},
   "outputs": [
    {
     "name": "stdout",
     "output_type": "stream",
     "text": [
      "The final interval [ -0.78564453125 -0.78515625 ] contains a root\n",
      "Approximate  root -0.785400390625 has been obtained in 11 steps\n",
      "x,y =  (1.0000001856047074, 2.000001670421697)\n",
      "The final interval [ 0.39013671875 0.390625 ] contains a root\n",
      "Approximate  root 0.390380859375 has been obtained in 11 steps\n",
      "x,y =  (1.692051812927788, 1.4615838353299404)\n"
     ]
    }
   ],
   "source": [
    "# calculate 2 roots, x, y\n",
    "print('x,y = ',f_1(bisection(f_1,-1,-0.5,0.5e-3))[1:])\n",
    "print('x,y = ',f_1(bisection(f_1,0,0.5,0.5e-3))[1:])"
   ]
  },
  {
   "cell_type": "markdown",
   "metadata": {},
   "source": [
    "### 4 roots"
   ]
  },
  {
   "cell_type": "code",
   "execution_count": 8,
   "metadata": {},
   "outputs": [
    {
     "data": {
      "image/png": "[encoded data removed]",
      "text/plain": [
       "<Figure size 432x288 with 1 Axes>"
      ]
     },
     "metadata": {},
     "output_type": "display_data"
    }
   ],
   "source": [
    "# plot 4 roots\n",
    "plt.style.use('seaborn-whitegrid')\n",
    "ax = plt.axes()\n",
    "# 100 linearly spaced numbers\n",
    "x = np.linspace(-math.pi,math.pi,100)\n",
    "\n",
    "# using vectorize to accepts a single element to every element in an array\n",
    "f2 = np.vectorize(f_1)\n",
    "y = f2(Theta = x,x1 = 5,x2 = 0, y2 = 6,L1 = 3, L2 = 3*math.sqrt(2), L3 = 3, \n",
    "                      Alfa = math.pi/4, P1 = 5, P2 = 5, P3 = 3)[0]\n",
    "\n",
    "# plot the function\n",
    "plt.plot(x,y, 'b')\n",
    "\n",
    "# show the plot\n",
    "plt.show()"
   ]
  },
  {
   "cell_type": "code",
   "execution_count": 9,
   "metadata": {},
   "outputs": [
    {
     "data": {
      "image/png": "[encoded data removed]",
      "text/plain": [
       "<Figure size 432x288 with 1 Axes>"
      ]
     },
     "metadata": {},
     "output_type": "display_data"
    }
   ],
   "source": [
    "# minimize the axes range to find the roots approximately\n",
    "plt.xlim([-1, 3])\n",
    "plt.ylim([-200, 200])\n",
    "\n",
    "# plot the function\n",
    "plt.plot(x,y, 'b')\n",
    "\n",
    "# show the plot\n",
    "plt.show()\n"
   ]
  },
  {
   "cell_type": "code",
   "execution_count": 10,
   "metadata": {},
   "outputs": [],
   "source": [
    "#\n",
    "from functools import partial\n",
    "f_2 = partial(f_1, x1 = 5,x2 = 0, y2 = 6,L1 = 3, L2 = 3*math.sqrt(2), L3 = 3, \n",
    "                      Alfa = math.pi/4, P1 = 5, P2 = 5, P3 = 3)"
   ]
  },
  {
   "cell_type": "code",
   "execution_count": 11,
   "metadata": {},
   "outputs": [
    {
     "name": "stdout",
     "output_type": "stream",
     "text": [
      "The final interval [ -0.72119140625 -0.720703125 ] contains a root\n",
      "Approximate  root -0.720947265625 has been obtained in 11 steps\n",
      "x,y =  (-1.3783754053590007, 4.806336388941391)\n",
      "The final interval [ -0.3310546875 -0.33056640625 ] contains a root\n",
      "Approximate  root -0.330810546875 has been obtained in 11 steps\n",
      "x,y =  (-0.9141519833851972, 4.916017410961223)\n",
      "The final interval [ 1.1435546875 1.14404296875 ] contains a root\n",
      "Approximate  root 1.143798828125 has been obtained in 11 steps\n",
      "x,y =  (4.481509479451289, 2.2162314309079965)\n",
      "The final interval [ 2.11572265625 2.1162109375 ] contains a root\n",
      "Approximate  root 2.115966796875 has been obtained in 11 steps\n",
      "x,y =  (4.571856803703797, 2.0245571032416927)\n"
     ]
    }
   ],
   "source": [
    "# calculate 4 roots, x, y\n",
    "print('x,y = ', f_2(bisection(f_2,-1,-0.5,0.5e-3))[1:])\n",
    "print('x,y = ', f_2(bisection(f_2,-0.5,0,0.5e-3))[1:])\n",
    "print('x,y = ', f_2(bisection(f_2,1,1.5,0.5e-3))[1:])\n",
    "print('x,y = ', f_2(bisection(f_2,2,2.5,0.5e-3))[1:])"
   ]
  },
  {
   "cell_type": "markdown",
   "metadata": {},
   "source": [
    "### 6 roots"
   ]
  },
  {
   "cell_type": "code",
   "execution_count": 12,
   "metadata": {},
   "outputs": [
    {
     "data": {
      "image/png": "[encoded data removed]",
      "text/plain": [
       "<Figure size 432x288 with 1 Axes>"
      ]
     },
     "metadata": {},
     "output_type": "display_data"
    }
   ],
   "source": [
    "# plot 6 roots\n",
    "plt.style.use('seaborn-whitegrid')\n",
    "ax = plt.axes()\n",
    "# 100 linearly spaced numbers\n",
    "x = np.linspace(-math.pi,math.pi,100)\n",
    "\n",
    "# using vectorize to accepts a single element to every element in an array\n",
    "f3 = np.vectorize(f_1)\n",
    "y = f3(Theta = x,x1 = 5,x2 = 0, y2 = 6,L1 = 3, L2 = 3*math.sqrt(2), L3 = 3, \n",
    "                      Alfa = math.pi/4, P1 = 5, P2 = 7, P3 = 3)[0]\n",
    "\n",
    "# plot the function\n",
    "plt.plot(x,y, 'b')\n",
    "\n",
    "# show the plot\n",
    "plt.show()"
   ]
  },
  {
   "cell_type": "code",
   "execution_count": 13,
   "metadata": {},
   "outputs": [
    {
     "data": {
      "image/png": "[encoded data removed]",
      "text/plain": [
       "<Figure size 432x288 with 1 Axes>"
      ]
     },
     "metadata": {},
     "output_type": "display_data"
    }
   ],
   "source": [
    "# minimize the axes range to find the roots approximately\n",
    "plt.xlim([-1, 3])\n",
    "plt.ylim([-200, 200])\n",
    "\n",
    "# plot the function\n",
    "plt.plot(x,y, 'b')\n",
    "\n",
    "# show the plot\n",
    "plt.show()\n"
   ]
  },
  {
   "cell_type": "code",
   "execution_count": 14,
   "metadata": {},
   "outputs": [
    {
     "name": "stdout",
     "output_type": "stream",
     "text": [
      "The final interval [ -0.67333984375 -0.6728515625 ] contains a root\n",
      "Approximate  root -0.673095703125 has been obtained in 11 steps\n",
      "x,y =  (-4.314869073528968, 2.5262058288769764)\n",
      "The final interval [ -0.35498046875 -0.3544921875 ] contains a root\n",
      "Approximate  root -0.354736328125 has been obtained in 11 steps\n",
      "x,y =  (-4.80490159300974, 1.3830880996338781)\n",
      "The final interval [ 0.03759765625 0.0380859375 ] contains a root\n",
      "Approximate  root 0.037841796875 has been obtained in 10 steps\n",
      "x,y =  (-4.9488947628147635, 0.7122818254223181)\n",
      "The final interval [ 0.45849609375 0.458984375 ] contains a root\n",
      "Approximate  root 0.458740234375 has been obtained in 10 steps\n",
      "x,y =  (-0.8219947230250111, 4.930699161003842)\n",
      "The final interval [ 0.9775390625 0.97802734375 ] contains a root\n",
      "Approximate  root 0.977783203125 has been obtained in 11 steps\n",
      "x,y =  (2.3036255488058464, 4.437219607285857)\n",
      "The final interval [ 2.513671875 2.51416015625 ] contains a root\n",
      "Approximate  root 2.513916015625 has been obtained in 12 steps\n",
      "x,y =  (3.2156724661520637, 3.8288678026208154)\n"
     ]
    }
   ],
   "source": [
    "# change the P2 to 7\n",
    "f_3 = partial(f_2, P2 = 7)\n",
    "\n",
    "# calculate 6 roots, x, y\n",
    "print('x,y = ', f_3(bisection(f_3,-1,-0.5,0.5e-3))[1:])\n",
    "print('x,y = ', f_3(bisection(f_3,-0.5,0,0.5e-3))[1:])\n",
    "print('x,y = ', f_3(bisection(f_3,0,0.25,0.5e-3))[1:])\n",
    "print('x,y = ', f_3(bisection(f_3,0.25,0.5,0.5e-3))[1:])\n",
    "print('x,y = ', f_3(bisection(f_3,0.5,1,0.5e-3))[1:])\n",
    "print('x,y = ', f_3(bisection(f_3,2,3,0.5e-3))[1:])"
   ]
  },
  {
   "cell_type": "code",
   "execution_count": null,
   "metadata": {},
   "outputs": [],
   "source": []
  }
 ],
 "metadata": {
  "kernelspec": {
   "display_name": "Python 3",
   "language": "python",
   "name": "python3"
  },
  "language_info": {
   "codemirror_mode": {
    "name": "ipython",
    "version": 3
   },
   "file_extension": ".py",
   "mimetype": "text/x-python",
   "name": "python",
   "nbconvert_exporter": "python",
   "pygments_lexer": "ipython3",
   "version": "3.8.3"
  }
 },
 "nbformat": 4,
 "nbformat_minor": 4
}

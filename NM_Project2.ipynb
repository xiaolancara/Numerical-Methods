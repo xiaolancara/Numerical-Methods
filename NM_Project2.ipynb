{
 "cells": [
  {
   "cell_type": "markdown",
   "metadata": {},
   "source": [
    "# GPS Project 2\n",
    "Team Member: __Atreish Ramlakhan, Nosson Weissman, Xiaolan Li__"
   ]
  },
  {
   "cell_type": "code",
   "execution_count": 1,
   "metadata": {},
   "outputs": [],
   "source": [
    "# import libararies\n",
    "import numpy as np\n",
    "from itertools import combinations\n",
    "import math\n",
    "from numpy import linalg as LA"
   ]
  },
  {
   "cell_type": "markdown",
   "metadata": {},
   "source": [
    "# Question 1"
   ]
  },
  {
   "cell_type": "code",
   "execution_count": 2,
   "metadata": {},
   "outputs": [],
   "source": [
    "# get Reciever Position by satellites position and tansmission time\n",
    "def RecieverPosition(Pos_SatelsMatrix,Transmission_t,InitialVector=np.array([0, 0, 6370, 0]) ,N=10):\n",
    "    A = Pos_SatelsMatrix[:,0]\n",
    "    B = Pos_SatelsMatrix[:,1]\n",
    "    C = Pos_SatelsMatrix[:,2]\n",
    "    CurrentVector = InitialVector\n",
    "    c = 299792.458\n",
    "    \n",
    "    F = np.zeros(4)\n",
    "    DF = np.zeros((4,4))\n",
    "    for i in range(N): \n",
    "        x = CurrentVector[0]\n",
    "        y = CurrentVector[1]\n",
    "        z = CurrentVector[2]\n",
    "        d = CurrentVector[3]\n",
    "        #print('CurrentRecieverPosition',CurrentVector)\n",
    "        \n",
    "         # functions of (x,y,z,d)\n",
    "        for i in range(len(InitialVector)):\n",
    "            F[i] = ((x - A[i])**2 + (y-B[i])**2 + (z-C[i])**2 - (c*(Transmission_t[i] - d))**2)\n",
    "            DF[i][0] = (2*(x-A[i]))\n",
    "            DF[i][1] = (2*(y-B[i]))\n",
    "            DF[i][2] = (2*(z-C[i]))\n",
    "            DF[i][3] = (2*c**2*(Transmission_t[i]-d))\n",
    "        # calculate with Multivariate Newton’s Method\n",
    "        # Formula: X(i+1) = Xi- DF(Xi)^(-1)*F(Xi)\n",
    "        CurrentVector = CurrentVector - np.dot(np.linalg.inv(DF),F)\n",
    "        \n",
    "    return CurrentVector"
   ]
  },
  {
   "cell_type": "code",
   "execution_count": 3,
   "metadata": {},
   "outputs": [
    {
     "name": "stdout",
     "output_type": "stream",
     "text": [
      "RecieverPosition [-4.17727096e+01 -1.67891941e+01  6.37005956e+03 -3.20156583e-03]\n"
     ]
    }
   ],
   "source": [
    "# solve problem 1\n",
    "\n",
    "# define constant value satellites position and transmission time\n",
    "Pos_SatelsMatrix = np.array([[15600, 7540, 20140], [18760, 2750, 18610], [17610, 14630, 13480], [19170, 610, 18390]])\n",
    "Transmission_t = np.array([0.07074, 0.07220, 0.07690, 0.07242])\n",
    "InitialVector = np.array([0, 0, 6370, 0])\n",
    "\n",
    "# get Reciever Position with given constant value\n",
    "RecieverPos = RecieverPosition(Pos_SatelsMatrix,Transmission_t,InitialVector)\n",
    "print('RecieverPosition',RecieverPos)"
   ]
  },
  {
   "cell_type": "markdown",
   "metadata": {},
   "source": [
    "# Question 2"
   ]
  },
  {
   "cell_type": "markdown",
   "metadata": {},
   "source": [
    "Define functions"
   ]
  },
  {
   "cell_type": "code",
   "execution_count": 4,
   "metadata": {},
   "outputs": [],
   "source": [
    "# satellite positions in km and travel times in seconds\n",
    "def SatellitePosition(phi,theta):\n",
    "    Pos_SatellMatrix = np.zeros((4,3))\n",
    "    Transmission_t = np.zeros(4)\n",
    "    c = 299792.458\n",
    "    rho=26570;\n",
    "    for i in range(4):\n",
    "        # Pos_SatellMatrix[i][0] mean A array\n",
    "        # Pos_SatellMatrix[i][1] mean B array\n",
    "        # Pos_SatellMatrix[i][2] mean C array\n",
    "        Pos_SatellMatrix[i][0]=rho*math.cos(phi[i])*math.cos(theta[i])\n",
    "        Pos_SatellMatrix[i][1]=rho*math.cos(phi[i])*math.sin(theta[i])\n",
    "        Pos_SatellMatrix[i][2]=rho*math.sin(phi[i])\n",
    "        R =math.sqrt(Pos_SatellMatrix[i][0]**2+Pos_SatellMatrix[i][1]**2+(Pos_SatellMatrix[i][2]-6370)**2)\n",
    "        Transmission_t[i]=0.0001+R/c\n",
    "    return Pos_SatellMatrix, Transmission_t"
   ]
  },
  {
   "cell_type": "code",
   "execution_count": 5,
   "metadata": {},
   "outputs": [],
   "source": [
    "# changes in the transmission time (+/- 10^-8)\n",
    "def ChangeTranT(t0, N = 15):\n",
    "    NewTranT = np.zeros((15,4))\n",
    "    dt=10**(-8);\n",
    "    NewTranT[0]=t0;\n",
    "    NewTranT[1]=[t0[0]-dt, t0[1]+dt, t0[2]+dt, t0[3]+dt];\n",
    "    NewTranT[2]=[t0[0]+dt, t0[1]-dt, t0[2]+dt, t0[3]+dt];\n",
    "    NewTranT[3]=[t0[0]+dt, t0[1]+dt, t0[2]-dt, t0[3]+dt];\n",
    "    NewTranT[4]=[t0[0]+dt, t0[1]+dt, t0[2]+dt, t0[3]-dt];\n",
    "    NewTranT[5]=[t0[0]-dt, t0[1]-dt, t0[2]+dt, t0[3]+dt];\n",
    "    NewTranT[6]=[t0[0]+dt, t0[1]+dt, t0[2]-dt, t0[3]-dt];\n",
    "    NewTranT[7]=[t0[0]-dt, t0[1]+dt, t0[2]+dt, t0[3]-dt];\n",
    "    NewTranT[8]=[t0[0]+dt, t0[1]-dt, t0[2]-dt, t0[3]+dt];\n",
    "    NewTranT[9]=[t0[0]-dt, t0[1]+dt, t0[2]-dt, t0[3]+dt];\n",
    "    NewTranT[10]=[t0[0]+dt, t0[1]-dt, t0[2]+dt, t0[3]-dt];\n",
    "    NewTranT[11]=[t0[0]+dt, t0[1]-dt, t0[2]-dt, t0[3]-dt];\n",
    "    NewTranT[12]=[t0[0]-dt, t0[1]+dt, t0[2]-dt, t0[3]-dt];\n",
    "    NewTranT[13]=[t0[0]-dt, t0[1]-dt, t0[2]+dt, t0[3]-dt];\n",
    "    NewTranT[14]=[t0[0]-dt, t0[1]-dt, t0[2]-dt, t0[3]+dt];\n",
    "    return NewTranT"
   ]
  },
  {
   "cell_type": "code",
   "execution_count": 6,
   "metadata": {},
   "outputs": [],
   "source": [
    "# calculate emf\n",
    "def Cal_emf(RecieverPos,RecieverPosMatrix):\n",
    "    c = 299792.458\n",
    "    dt=np.array([10**(-8),10**(-8),10**(-8),10**(-8)])\n",
    "    du=RecieverPos-RecieverPosMatrix[0]\n",
    "    normdu = LA.norm(du, np.inf)   #the forward error (or output error)\n",
    "    normdt = c*LA.norm(dt, np.inf)   #the backward error (or input error)    \n",
    "    return (normdu/normdt)"
   ]
  },
  {
   "cell_type": "code",
   "execution_count": 7,
   "metadata": {},
   "outputs": [
    {
     "name": "stdout",
     "output_type": "stream",
     "text": [
      "RecieverPosMatrix [array([1.08231226e-12, 2.91975686e-12, 6.37000000e+03, 1.00000000e-04]), array([2.91857713e-03, 1.41483329e-03, 6.36999457e+03, 9.99918958e-05]), array([-7.18715868e-03,  3.94331383e-12,  6.37000000e+03,  1.00010000e-04]), array([ 5.90815207e-03, -9.41788180e-03,  6.36998901e+03,  9.99733512e-05]), array([-1.63956590e-03,  8.00303975e-03,  6.37001641e+03,  1.00044753e-04]), array([-4.26858328e-03,  1.41483329e-03,  6.36999457e+03,  9.99918958e-05]), array([ 4.26858230e-03, -1.41483301e-03,  6.37000543e+03,  1.00008104e-04]), array([1.27900957e-03, 9.41787458e-03, 6.37001099e+03, 1.00026649e-04]), array([-1.27901013e-03, -9.41788179e-03,  6.36998901e+03,  9.99733512e-05]), array([ 8.82673204e-03, -8.00305033e-03,  6.36998359e+03,  9.99552470e-05]), array([-8.82672124e-03,  8.00303975e-03,  6.37001641e+03,  1.00044753e-04]), array([-2.91857657e-03, -1.41483301e-03,  6.37000543e+03,  1.00008104e-04]), array([ 7.18716060e-03, -3.80098577e-13,  6.37000000e+03,  9.99900000e-05]), array([-5.90814752e-03,  9.41787459e-03,  6.37001099e+03,  1.00026649e-04]), array([ 1.63956811e-03, -8.00305033e-03,  6.36998359e+03,  9.99552470e-05])]\n",
      "emf [0.0, 1.8104199240314425, 2.397378082296723, 3.6648802302382784, 5.475295602434563, 1.8104199061323307, 1.810419626420786, 3.664877811734554, 3.664880285452488, 5.475301893213945, 5.4752957392565875, 1.8104196088250488, 2.3973787237389725, 3.664877876050007, 5.475302030035969]\n",
      "Max_emf 5.475302030035969\n"
     ]
    }
   ],
   "source": [
    "# solve problem 2\n",
    "\n",
    "# define phi and theta\n",
    "phi=[math.pi/8, 2*math.pi/8, 3*math.pi/8, 4*math.pi/8]\n",
    "theta=[math.pi/2, math.pi, 3*math.pi/2, 2*math.pi]\n",
    "\n",
    "# define solution lists\n",
    "RecieverPosMatrix = []\n",
    "emf = []\n",
    "\n",
    "#call functions to get satellites position and different tansmission time\n",
    "Pos_SatelsMatrix, Transmission_t = SatellitePosition(phi,theta)\n",
    "NewTranT =  ChangeTranT(Transmission_t)\n",
    "\n",
    "# get Reciever Position in different tansmission time and return emf\n",
    "for t_vector in NewTranT:\n",
    "    InitialVector = np.array([0, 0, 6370, 0])\n",
    "    RecieverPos = RecieverPosition(Pos_SatelsMatrix,t_vector,InitialVector,N =20)\n",
    "    RecieverPosMatrix.append(RecieverPos)\n",
    "    emf.append(Cal_emf(RecieverPos,RecieverPosMatrix))\n",
    "print('RecieverPosMatrix',RecieverPosMatrix)\n",
    "print('emf',emf)\n",
    "print('Max_emf',np.max(emf))\n",
    "\n",
    "    "
   ]
  },
  {
   "cell_type": "markdown",
   "metadata": {},
   "source": [
    "# Question 3"
   ]
  },
  {
   "cell_type": "code",
   "execution_count": 8,
   "metadata": {},
   "outputs": [
    {
     "name": "stdout",
     "output_type": "stream",
     "text": [
      "RecieverPosMatrix [array([5.90434258e-09, 4.56794012e-10, 6.37000000e+03, 1.00000000e-04]), array([-2.03962310e+01, -6.32482317e+00,  6.28893939e+03,  3.72909005e-05]), array([6.14019752e+01, 1.75317500e+01, 6.61287011e+03, 2.77744273e-04]), array([-6.20662121e+01, -1.62324256e+01,  6.12628578e+03, -8.19405632e-05]), array([2.07627335e+01, 4.93378346e+00, 6.45139615e+03, 1.57351150e-04]), array([4.10942393e+01, 1.12363777e+01, 6.53196157e+03, 2.17892542e-04]), array([-4.12132180e+01, -1.12730329e+01,  6.20783539e+03, -2.17152302e-05]), array([ 3.96330641e-01, -1.38188751e+00,  6.37038657e+03,  9.55919422e-05]), array([-3.96261548e-01,  1.38174619e+00,  6.36961358e+03,  1.04407600e-04]), array([-8.25568035e+01, -2.25872101e+01,  6.04505134e+03, -1.47546459e-04]), array([8.20802920e+01, 2.24404485e+01, 6.69413458e+03, 3.32219607e-04]), array([2.03657977e+01, 6.31435234e+00, 6.45100573e+03, 1.61750301e-04]), array([-6.16718026e+01, -1.76180783e+01,  6.12666056e+03, -8.63549515e-05]), array([6.18002312e+01, 1.61536321e+01, 6.61326851e+03, 2.73322289e-04]), array([-2.07918956e+01, -4.94174310e+00,  6.28855681e+03,  4.16874868e-05])]\n",
      "emf [0.0, 27038.90962840893, 81012.74988639374, 81294.31298091718, 27150.83372479129, 54024.56559784189, 54092.291197146784, 460.9480583988256, 460.9009188374582, 108391.20664811727, 108119.65914752302, 27020.60251019419, 81169.29864495306, 81145.63899696484, 27166.524915307433]\n",
      "Max_emf 108391.20664811727\n"
     ]
    }
   ],
   "source": [
    "# solve problem 3\n",
    "# different phi and theta range\n",
    "phi=[math.pi/8+0.01*math.pi/2, math.pi/8+0.02*math.pi/2, math.pi/8+0.03*math.pi/2, math.pi/8+0.04*math.pi/2];\n",
    "theta=[math.pi/2+0.01*2*math.pi, math.pi/2+0.02*2*math.pi, math.pi/2+0.03*2*math.pi, math.pi/2+0.04*2*math.pi];\n",
    "\n",
    "# define solution lists\n",
    "RecieverPosMatrix = []\n",
    "emf = []\n",
    "\n",
    "#call functions to get satellites position and different tansmission time\n",
    "Pos_SatelsMatrix, Transmission_t = SatellitePosition(phi,theta)\n",
    "NewTranT =  ChangeTranT(Transmission_t)\n",
    "\n",
    "# get Reciever Position in different tansmission time and return emf\n",
    "for t_vector in NewTranT:\n",
    "    InitialVector = np.array([0, 0, 6370, 0])\n",
    "    RecieverPos = RecieverPosition(Pos_SatelsMatrix,t_vector,InitialVector,N =20)\n",
    "    RecieverPosMatrix.append(RecieverPos)\n",
    "    emf.append(Cal_emf(RecieverPos,RecieverPosMatrix))\n",
    "print('RecieverPosMatrix',RecieverPosMatrix)\n",
    "print('emf',emf)\n",
    "print('Max_emf',np.max(emf))"
   ]
  },
  {
   "cell_type": "code",
   "execution_count": null,
   "metadata": {},
   "outputs": [],
   "source": []
  }
 ],
 "metadata": {
  "kernelspec": {
   "display_name": "Python 3",
   "language": "python",
   "name": "python3"
  },
  "language_info": {
   "codemirror_mode": {
    "name": "ipython",
    "version": 3
   },
   "file_extension": ".py",
   "mimetype": "text/x-python",
   "name": "python",
   "nbconvert_exporter": "python",
   "pygments_lexer": "ipython3",
   "version": "3.8.3"
  }
 },
 "nbformat": 4,
 "nbformat_minor": 4
}

{
 "cells": [
  {
   "cell_type": "raw",
   "metadata": {},
   "source": [
    "Atreish Ramlakhan\n",
    "Nosson Weissman\n",
    "Xiaolan Li\n",
    "AIM 5003: Project #2"
   ]
  },
  {
   "cell_type": "markdown",
   "metadata": {},
   "source": [
    "# GPS Positioning"
   ]
  },
  {
   "cell_type": "code",
   "execution_count": 1,
   "metadata": {},
   "outputs": [],
   "source": [
    "import numpy as np\n",
    "from itertools import combinations\n",
    "import math\n",
    "from numpy import linalg as LA\n",
    "import pandas as pd"
   ]
  },
  {
   "cell_type": "markdown",
   "metadata": {},
   "source": [
    "# I.) Introduction"
   ]
  },
  {
   "cell_type": "raw",
   "metadata": {},
   "source": [
    "The goal of this project is to optimize the accuracy of signal positioning on Earth from several satellites that orbit the planet continuously. There are roughly 24 satellites that orbit the planet at an altitude of 20,200 km, with every position on Earth covered by their signals. Their purpose is to receive signals from devices at a unique position on Earth and to calculate the origin of the signal's position. This signal is typically in the range of 5-8 or more satellites. Conditions on Earth such as weather and topography etc. affect the accuracy of the signal, but for now we will ignore these and use Newton's Multivariate Method to establish the \"point\" of intersection of only 3 satellites. There are 2 points in space, which we will ignore and 1 on Earth. \n",
    "\n",
    "Thus, it is our aim to calculate the said position using: \n",
    "-the positions of the satellites (Ai, Bi, Ci) \n",
    "-time difference between time transmittes and received (ti)\n",
    "-speed of light (c=299,792.458 km/sec)\n",
    "-radius (c.ti)\n",
    "-d is the difference between the synchronized time on the (now four) satellite clocks and receiver on earth\n",
    "\n",
    "Note: If satellites are too close to eachother or ill-conditioned, this system of equations do not produce accurate results for the solution. There is also multi-path interference such as particles in the atmosphere, ionsphere etc. These conditions make the system even more ill conditioned, this we are tasked with using numerical mathods.    "
   ]
  },
  {
   "cell_type": "markdown",
   "metadata": {},
   "source": [
    "# II.) Methodology"
   ]
  },
  {
   "cell_type": "raw",
   "metadata": {},
   "source": [
    "The first thing we do is we calculate a sphere from the individual satellites, with radius (c.ti). There are 3 spheres in space and their intersection will be a point on earth. Thus, we can now reduce the entire project to solving for this position which is the intersection of 3 spheres. To improve accuracy, we incorporate d into the equation and then we try to solve for (x,y,z,d).\n",
    "\n",
    "Using the system of equation:\n",
    "f1 = (x−A1)^2 + (y−B1)^2 + (z−C1)^2 − (c(t1−d))^2 = 0\n",
    "f2 = (x−A2)^2 + (y−B2)^2 + (z−C2)^2 − (c(t2−d))^2 = 0\n",
    "f3 = (x−A3)^2 + (y−B3)^2 + (z−C3)^2 − (c(t3−d))^2 = 0\n",
    "f4 = (x−A4)^2 + (y−B4)^2 + (z−C4)^2 − (c(t4−d))^2 = 0"
   ]
  },
  {
   "cell_type": "raw",
   "metadata": {},
   "source": [
    "For question 1:\n",
    "We are given 4 position vectors in km, a time vector (ti), and an initial guess. \n",
    "\n",
    "1st-- begin by creating a function that takes in imputs: Positions (A,B,C), transmission vector given, initial vector, max number number of iterations N=10. \n",
    "2nd-- within the fucntion craft a Matrix of A, B and C, declaring each row of the matrix with each position of the satellite with the use of slicing of list, again this information is given. \n",
    "3rd-- declare c = 299792.458 the speed of light. \n",
    "4th-- we declare an array F to be filled with calculated values based on equations above, and DF a 4x4 Jacobian\n",
    "5th-- we delcare (x,y,z,d) into the initial vector by position\n",
    "6th-- populate the array F (our iterated array) with values based on the formula above when we range over all 4 values. Hence, we range over length of the initial vector and find corresponding position of the ith position of the ROW (or A, B, C) of the original position matrix\n",
    "7th-- populate the Jacobian matrix with the approproate partial derivitives from the equation above for A,B,C. The last row being the calculation of the spped of light * the difference error in time square for accuracy.\n",
    "8th-- the last calculation of the iterative process involves updating the current (i.e. initial given) vector by subtracting the dot product of the inverse of the Jacobian and the (latest) version of our array F i.e. position vector.\n",
    "Notice: these are all in a loop and update N times (as stated the number of iterations N=10) and our final x,y,z,d will be our 10th iteration. \n",
    "9th--imput all the relevant details goven by the question: Position matrix, initial guess and transmission time and then run the function to solve the question"
   ]
  },
  {
   "cell_type": "raw",
   "metadata": {},
   "source": [
    "For question 2:\n",
    "\n",
    "We are given a new initial vector and equations for calculating the position matrix for A,B,C, the time change of +-10^-8\n",
    "\n",
    "1st--Define a position function that imputs phi and theta.\n",
    "2nd--Within function create 4x3 matrix \n",
    "3rd--define an array for transmissions\n",
    "4th--define the rows of the position satellite matrix with the given calculations\n",
    "5th--define the transmission array based on calculations \n",
    "6th--create a 15x4 matrix of changes in the transmission time for +/- 10^-8 to be used later\n",
    "7th--define a function that will use the receiver position array which is the solution to question 1 and a new Receiver position matrix to be filled in next steps. This function will calculate the error magnification factor by using the linear algebra inifinity norm package. The EMF is a ratio of backward and forward errors\n",
    "8th--we begin to solve the problem by first creating our arrays of variables phi and theta so that we can start our calculations.\n",
    "Note: we restrict phi to the upper hemisphere so values go from 0-π/2 in intervals of π/8, the same for theta but we go from the remaining of the circle from π/2 to 2π\n",
    "9th--define lists for the solution sets Receiver Positioning Matrix and EMF to be populated wihen we use of defined functions\n",
    "10th--call our function from step #1, we use our imputs from step #9\n",
    "11th--Apply changes to our transmission array from step #1 using function from step #6, this will produce a matrix of ti's \n",
    "12th--We begin with a new initial vector given to us in the question. Now we use for each of the time change vectors (some repeating) we use our function that calculates position from Q1. However, our imput is different, we use our position matrix calculated in Q2 step #1, the time transmission vector, our new initial vector and change the number of iterations to 20. These results should be added to the empty list we created in step #9\n",
    "13th--Since we have an array of error magnification factors, it is easy to find the ocndition number, sumply print the largest number. Since they use the infinity norm, it is always positive"
   ]
  },
  {
   "cell_type": "raw",
   "metadata": {},
   "source": [
    "For question 3:\n",
    "\n",
    "We are asked to make changes within 5% of eachother so we will use the entire code from Q2 which incorporates Q1. However, this requires us to make some preliminary edits to our spherical coordinates so that they are closer. We edit the phi and theta arrays and run. "
   ]
  },
  {
   "cell_type": "markdown",
   "metadata": {},
   "source": [
    "# III.) Computer Experiments/Code"
   ]
  },
  {
   "cell_type": "markdown",
   "metadata": {},
   "source": [
    "# Question 1"
   ]
  },
  {
   "cell_type": "raw",
   "metadata": {},
   "source": [
    "Solve the system by using Multivariate Newton’s Method. Find the receiver position (x,y,z) near earth and time correction d for known, simultaneous satellite positions:\n",
    "(15600,7540,20140), \n",
    "(18760,2750,18610), \n",
    "(17610,14630,13480), \n",
    "(19170,610,18390) in km, \n",
    "and measured time intervals \n",
    "0.07074,\n",
    "0.07220,\n",
    "0.07690, \n",
    "0.07242 in seconds, respectively. \n",
    "Set the initial vector to be (x0,y0,z0,d0) = (0,0,6370,0)"
   ]
  },
  {
   "cell_type": "code",
   "execution_count": 2,
   "metadata": {},
   "outputs": [],
   "source": [
    "# get Reciever Position by satellites position and tansmission time\n",
    "def RecieverPosition(Pos_SatelsMatrix, Transmission_t, InitialVector=np.array([0, 0, 6370, 0]), N=10):   \n",
    "    A = Pos_SatelsMatrix[:,0] #row 1\n",
    "    B = Pos_SatelsMatrix[:,1] #row 2\n",
    "    C = Pos_SatelsMatrix[:,2] #row 3\n",
    "    \n",
    "    CurrentVector = InitialVector\n",
    "    c = 299792.458 #speed of light\n",
    "    F = np.zeros(4)      \n",
    "    DF = np.zeros((4,4))\n",
    "    \n",
    "    for i in range(N): \n",
    "        x = CurrentVector[0] #1st element\n",
    "        y = CurrentVector[1] #2nd element\n",
    "        z = CurrentVector[2] #3rd element\n",
    "        d = CurrentVector[3] #4th element               \n",
    "       # functions of (x,y,z,d) \n",
    "        for i in range(len(InitialVector)):\n",
    "            F[i] = ((x - A[i])**2 + (y-B[i])**2 + (z-C[i])**2 - (c*(Transmission_t[i] - d))**2)    \n",
    "            DF[i][0] = (2*(x-A[i]))\n",
    "            DF[i][1] = (2*(y-B[i]))\n",
    "            DF[i][2] = (2*(z-C[i]))\n",
    "            DF[i][3] = (2*c**2*(Transmission_t[i]-d))\n",
    "    \n",
    "        # calculate with Multivariate Newton’s Method\n",
    "        # Formula: X(i+1) = Xi- DF(Xi)^(-1)*F(Xi)\n",
    "        CurrentVector = CurrentVector - np.dot(np.linalg.inv(DF),F)       \n",
    "    return CurrentVector"
   ]
  },
  {
   "cell_type": "code",
   "execution_count": 3,
   "metadata": {},
   "outputs": [
    {
     "name": "stdout",
     "output_type": "stream",
     "text": [
      "RecieverPosition [-4.17727096e+01 -1.67891941e+01  6.37005956e+03 -3.20156583e-03]\n"
     ]
    }
   ],
   "source": [
    "# define constant value satellites position and transmission time\n",
    "Pos_SatelsMatrix = np.array([[15600, 7540, 20140], [18760, 2750, 18610], [17610, 14630, 13480], [19170, 610, 18390]])\n",
    "Transmission_t = np.array([0.07074, 0.07220, 0.07690, 0.07242])\n",
    "InitialVector = np.array([0, 0, 6370, 0])\n",
    "\n",
    "# get Reciever Position with given constant value\n",
    "RecieverPos = RecieverPosition(Pos_SatelsMatrix, Transmission_t, InitialVector)\n",
    "print('RecieverPosition',RecieverPos)"
   ]
  },
  {
   "cell_type": "markdown",
   "metadata": {},
   "source": [
    "# Question 2"
   ]
  },
  {
   "cell_type": "raw",
   "metadata": {},
   "source": [
    "Define satellire positions (Ai,Bi,Ci) from spherical coordinates (ρ,θ,ϕ) as:\n",
    "Ai = rho*cos(phi(i))*cos(theta(i))\n",
    "Bi = rho*cos(phi(i))*sin(theta(i))\n",
    "Ci = rho*sin(theta(i))\n",
    "rho=26570 km\n",
    "phi values are arbritrarely chosen between [0,π/2] (we will use an array of π/8 for the interval)\n",
    "theta between [0,2π] (we will use an array of π/4 for the interval)\n",
    "for i={1,2,3,4}\n",
    "Set (x,y,z,d)=(0,0,6370,0.0001) and calculate the corresponding ranges Ri and travel time ti:\n",
    "Ri= √A2i+B2i+(Ci−6370)\n",
    "ti= d + Ri/c\n",
    "Let the forward, or output error be the change in position ||(􏰀x,􏰀y,􏰀z)||∞, caused by such a change in ti \n",
    "Error magnification factor = ||(􏰀x,􏰀y,􏰀z)||∞ , c||(􏰀t1,...,􏰀tm)||∞\n",
    "and the condition number of the problem to be the maximum error magnification factor for all small 􏰀ti (say, 10−8 or less).\n",
    "Change each ti defined in the foregoing by ti = +10−8 or −10−8, not all the same. Denote the new solution of the equations (4.37) by (x,y,z,d), and compute the difference in position ||(􏰀x,􏰀y,􏰀z)||∞ and the error magnification factor. \n",
    "Try different variations of the ti. \n",
    "What is the maximum position error found, in meters? \n",
    "Estimate the condition number of the problem, on the basis of the error magnification factors you have computed."
   ]
  },
  {
   "cell_type": "code",
   "execution_count": 4,
   "metadata": {},
   "outputs": [],
   "source": [
    "# satellite positions in km and travel times in seconds\n",
    "def SatellitePosition(phi,theta):\n",
    "    Pos_SatellMatrix = np.zeros((4,3))\n",
    "    Transmission_t = np.zeros(4)\n",
    "    c = 299792.458\n",
    "    rho=26570;\n",
    " \n",
    "    for i in range(4):\n",
    "        \n",
    "        Pos_SatellMatrix[i][0] = rho*math.cos(phi[i])*math.cos(theta[i]) \n",
    "        Pos_SatellMatrix[i][1] = rho*math.cos(phi[i])*math.sin(theta[i])\n",
    "        Pos_SatellMatrix[i][2] = rho*math.sin(phi[i])\n",
    "        \n",
    "        R = math.sqrt(Pos_SatellMatrix[i][0]**2 + Pos_SatellMatrix[i][1]**2 + (Pos_SatellMatrix[i][2]-6370)**2)\n",
    "        \n",
    "        Transmission_t[i] = 0.0001 + R/c\n",
    "        \n",
    "    return Pos_SatellMatrix, Transmission_t"
   ]
  },
  {
   "cell_type": "code",
   "execution_count": 5,
   "metadata": {},
   "outputs": [],
   "source": [
    "# changes in the transmission time (+/- 10^-8)\n",
    "def ChangeTranT(t0, N=15):    \n",
    "    NewTranT = np.zeros((15,4))\n",
    "    dt=10**(-8); #given value in question\n",
    "    NewTranT[0]=t0;\n",
    "    NewTranT[1]=[t0[0]-dt, t0[1]+dt, t0[2]+dt, t0[3]+dt];\n",
    "    NewTranT[2]=[t0[0]+dt, t0[1]-dt, t0[2]+dt, t0[3]+dt];\n",
    "    NewTranT[3]=[t0[0]+dt, t0[1]+dt, t0[2]-dt, t0[3]+dt];\n",
    "    NewTranT[4]=[t0[0]+dt, t0[1]+dt, t0[2]+dt, t0[3]-dt];\n",
    "    NewTranT[5]=[t0[0]-dt, t0[1]-dt, t0[2]+dt, t0[3]+dt];\n",
    "    NewTranT[6]=[t0[0]+dt, t0[1]+dt, t0[2]-dt, t0[3]-dt];\n",
    "    NewTranT[7]=[t0[0]-dt, t0[1]+dt, t0[2]+dt, t0[3]-dt];\n",
    "    NewTranT[8]=[t0[0]+dt, t0[1]-dt, t0[2]-dt, t0[3]+dt];\n",
    "    NewTranT[9]=[t0[0]-dt, t0[1]+dt, t0[2]-dt, t0[3]+dt];\n",
    "    NewTranT[10]=[t0[0]+dt, t0[1]-dt, t0[2]+dt, t0[3]-dt];\n",
    "    NewTranT[11]=[t0[0]+dt, t0[1]-dt, t0[2]-dt, t0[3]-dt];\n",
    "    NewTranT[12]=[t0[0]-dt, t0[1]+dt, t0[2]-dt, t0[3]-dt];\n",
    "    NewTranT[13]=[t0[0]-dt, t0[1]-dt, t0[2]+dt, t0[3]-dt];\n",
    "    NewTranT[14]=[t0[0]-dt, t0[1]-dt, t0[2]-dt, t0[3]+dt];\n",
    "    return NewTranT"
   ]
  },
  {
   "cell_type": "code",
   "execution_count": 6,
   "metadata": {},
   "outputs": [
    {
     "data": {
      "text/plain": [
       "array([-4.17727096e+01, -1.67891941e+01,  6.37005956e+03, -3.20156583e-03])"
      ]
     },
     "execution_count": 6,
     "metadata": {},
     "output_type": "execute_result"
    }
   ],
   "source": [
    "RecieverPos #this is from Q1"
   ]
  },
  {
   "cell_type": "code",
   "execution_count": 7,
   "metadata": {},
   "outputs": [],
   "source": [
    "#Calculate Error Magnification Factor\n",
    "def Cal_emf(RecieverPos,RecieverPosMatrix):\n",
    "    c  = 299792.458\n",
    "    dt = np.array([10**(-8), 10**(-8), 10**(-8), 10**(-8)]) #changes in time transmission\n",
    "    du = RecieverPos - RecieverPosMatrix[0]\n",
    "    normdu = LA.norm(du, np.inf)                #the forward error (or output error)\n",
    "    normdt = c*LA.norm(dt, np.inf)              #the backward error (or input error)    \n",
    "    return (normdu/normdt)"
   ]
  },
  {
   "cell_type": "code",
   "execution_count": 8,
   "metadata": {},
   "outputs": [
    {
     "name": "stdout",
     "output_type": "stream",
     "text": [
      "Matrix of Transmition Time Changes\n",
      "\n",
      " [[0.08295579 0.07522119 0.06957484 0.06747995]\n",
      " [0.08295578 0.0752212  0.06957485 0.06747996]\n",
      " [0.0829558  0.07522118 0.06957485 0.06747996]\n",
      " [0.0829558  0.0752212  0.06957483 0.06747996]\n",
      " [0.0829558  0.0752212  0.06957485 0.06747994]\n",
      " [0.08295578 0.07522118 0.06957485 0.06747996]\n",
      " [0.0829558  0.0752212  0.06957483 0.06747994]\n",
      " [0.08295578 0.0752212  0.06957485 0.06747994]\n",
      " [0.0829558  0.07522118 0.06957483 0.06747996]\n",
      " [0.08295578 0.0752212  0.06957483 0.06747996]\n",
      " [0.0829558  0.07522118 0.06957485 0.06747994]\n",
      " [0.0829558  0.07522118 0.06957483 0.06747994]\n",
      " [0.08295578 0.0752212  0.06957483 0.06747994]\n",
      " [0.08295578 0.07522118 0.06957485 0.06747994]\n",
      " [0.08295578 0.07522118 0.06957483 0.06747996]]\n",
      "\n",
      "Position Matrix\n",
      "\n",
      "[1.93263768e-12 3.10171641e-12 6.37000000e+03 1.00000000e-04]\n",
      "[2.91857714e-03 1.41483329e-03 6.36999457e+03 9.99918958e-05]\n",
      "[-7.18715868e-03  4.12041778e-12  6.37000000e+03  1.00010000e-04]\n",
      "[ 5.90815207e-03 -9.41788180e-03  6.36998901e+03  9.99733512e-05]\n",
      "[-1.63956589e-03  8.00303974e-03  6.37001641e+03  1.00044753e-04]\n",
      "[-4.26858328e-03  1.41483329e-03  6.36999457e+03  9.99918958e-05]\n",
      "[ 4.26858230e-03 -1.41483300e-03  6.37000543e+03  1.00008104e-04]\n",
      "[1.27900957e-03 9.41787458e-03 6.37001099e+03 1.00026649e-04]\n",
      "[-1.27901013e-03 -9.41788179e-03  6.36998901e+03  9.99733512e-05]\n",
      "[ 8.82673204e-03 -8.00305033e-03  6.36998359e+03  9.99552470e-05]\n",
      "[-8.82672125e-03  8.00303975e-03  6.37001641e+03  1.00044753e-04]\n",
      "[-2.91857657e-03 -1.41483301e-03  6.37000543e+03  1.00008104e-04]\n",
      "[7.18716060e-03 5.98848254e-12 6.37000000e+03 9.99900000e-05]\n",
      "[-5.90814752e-03  9.41787459e-03  6.37001099e+03  1.00026649e-04]\n",
      "[ 1.63956810e-03 -8.00305033e-03  6.36998359e+03  9.99552470e-05]\n",
      "\n",
      "Error Magnification Factor List is:\n",
      "\n",
      "0.0\n",
      "1.8104199255483164\n",
      "2.3973780833004743\n",
      "3.6648802299349037\n",
      "5.475295600614314\n",
      "1.8104199049188314\n",
      "1.810419630668033\n",
      "3.6648778120379286\n",
      "3.664880288486236\n",
      "5.475301892607195\n",
      "5.475295739863337\n",
      "1.8104196082182993\n",
      "2.3973787229534342\n",
      "3.664877877263506\n",
      "5.475302030946093\n",
      "\n",
      "The Max Error Magnification Factor or Condition Number is: 5.475302030946093\n"
     ]
    }
   ],
   "source": [
    "#Define array of Phi and Theta\n",
    "phi   = [math.pi/8, 2*math.pi/8, 3*math.pi/8, 4*math.pi/8]\n",
    "theta = [math.pi/2, math.pi, 3*math.pi/2, 2*math.pi] \n",
    "\n",
    "#Define Solution lists\n",
    "RecieverPosMatrix = []\n",
    "emf = []\n",
    "\n",
    "#call functions to get satellites position and different tansmission time\n",
    "Pos_SatelsMatrix, Transmission_t = SatellitePosition(phi,theta)\n",
    "NewTranT =  ChangeTranT(Transmission_t)\n",
    "\n",
    "# get Reciever Position in different tansmission time and return emf\n",
    "for t_vector in NewTranT:\n",
    "\n",
    "    InitialVector = np.array([0, 0, 6370, .0001])\n",
    "    RecieverPos = RecieverPosition(Pos_SatelsMatrix, t_vector, InitialVector, N=20)\n",
    "    RecieverPosMatrix.append(RecieverPos)\n",
    "    emf.append(Cal_emf(RecieverPos,RecieverPosMatrix))\n",
    "\n",
    "print('Matrix of Transmition Time Changes\\n\\n', NewTranT)\n",
    "print('')\n",
    "print('Position Matrix\\n', *RecieverPosMatrix, sep=\"\\n\")\n",
    "print('')\n",
    "print('Error Magnification Factor List is:\\n', *emf, sep=\"\\n\")\n",
    "print('')\n",
    "print('The Max Error Magnification Factor or Condition Number is:',np.max(emf))    "
   ]
  },
  {
   "cell_type": "markdown",
   "metadata": {},
   "source": [
    "# Question 3"
   ]
  },
  {
   "cell_type": "raw",
   "metadata": {},
   "source": [
    "Now repeat Step 4 with a more tightly grouped set of satellites. Choose all φi within 5% of one another and all θi within 5% of one another. Solve with and without the same input error as in Step 4. Find the maximum position error and error magnification factor."
   ]
  },
  {
   "cell_type": "code",
   "execution_count": 9,
   "metadata": {},
   "outputs": [
    {
     "name": "stdout",
     "output_type": "stream",
     "text": [
      "Matrix of Transmition Time Changes\n",
      "\n",
      " [[0.08262638 0.0822979  0.08197043 0.08164408]\n",
      " [0.08262637 0.08229791 0.08197044 0.08164409]\n",
      " [0.08262639 0.08229789 0.08197044 0.08164409]\n",
      " [0.08262639 0.08229791 0.08197042 0.08164409]\n",
      " [0.08262639 0.08229791 0.08197044 0.08164407]\n",
      " [0.08262637 0.08229789 0.08197044 0.08164409]\n",
      " [0.08262639 0.08229791 0.08197042 0.08164407]\n",
      " [0.08262637 0.08229791 0.08197044 0.08164407]\n",
      " [0.08262639 0.08229789 0.08197042 0.08164409]\n",
      " [0.08262637 0.08229791 0.08197042 0.08164409]\n",
      " [0.08262639 0.08229789 0.08197044 0.08164407]\n",
      " [0.08262639 0.08229789 0.08197042 0.08164407]\n",
      " [0.08262637 0.08229791 0.08197042 0.08164407]\n",
      " [0.08262637 0.08229789 0.08197044 0.08164407]\n",
      " [0.08262637 0.08229789 0.08197042 0.08164409]]\n",
      "\n",
      "Position Matrix\n",
      "\n",
      "[8.44895734e-09 2.00790875e-09 6.37000000e+03 1.00000000e-04]\n",
      "[-2.03962310e+01 -6.32482317e+00  6.28893939e+03  3.72909006e-05]\n",
      "[6.14019752e+01 1.75317500e+01 6.61287011e+03 2.77744273e-04]\n",
      "[-6.20662120e+01 -1.62324256e+01  6.12628578e+03 -8.19405631e-05]\n",
      "[2.07627335e+01 4.93378346e+00 6.45139615e+03 1.57351150e-04]\n",
      "[4.10942393e+01 1.12363777e+01 6.53196157e+03 2.17892542e-04]\n",
      "[-4.12132179e+01 -1.12730328e+01  6.20783539e+03 -2.17152301e-05]\n",
      "[ 3.96330644e-01 -1.38188751e+00  6.37038657e+03  9.55919422e-05]\n",
      "[-3.96261504e-01  1.38174621e+00  6.36961358e+03  1.04407601e-04]\n",
      "[-8.25568036e+01 -2.25872101e+01  6.04505134e+03 -1.47546459e-04]\n",
      "[8.20802920e+01 2.24404485e+01 6.69413458e+03 3.32219607e-04]\n",
      "[2.03657977e+01 6.31435234e+00 6.45100573e+03 1.61750301e-04]\n",
      "[-6.16718026e+01 -1.76180783e+01  6.12666056e+03 -8.63549514e-05]\n",
      "[6.18002313e+01 1.61536321e+01 6.61326851e+03 2.73322289e-04]\n",
      "[-2.07918956e+01 -4.94174308e+00  6.28855681e+03  4.16874869e-05]\n",
      "\n",
      "Error Magnification Factor List is:\n",
      "\n",
      "0.0\n",
      "27038.909616267265\n",
      "81012.74988506222\n",
      "81294.31292408356\n",
      "27150.833746893357\n",
      "54024.56557513975\n",
      "54092.29111900412\n",
      "460.94805875037076\n",
      "460.90092250858964\n",
      "108391.20673278705\n",
      "108119.65916800022\n",
      "27020.60251029309\n",
      "81169.29862101922\n",
      "81145.63901735557\n",
      "27166.524837628018\n",
      "\n",
      "The Max Error Magnification Factor or Condition Number is: 108391.20673278705\n"
     ]
    }
   ],
   "source": [
    "# different phi and theta range\n",
    "phi   = [math.pi/8+0.01*math.pi/2, math.pi/8+0.02*math.pi/2, math.pi/8+0.03*math.pi/2, math.pi/8+0.04*math.pi/2];\n",
    "theta = [math.pi/2+0.01*2*math.pi, math.pi/2+0.02*2*math.pi, math.pi/2+0.03*2*math.pi, math.pi/2+0.04*2*math.pi];\n",
    "\n",
    "# define solution lists\n",
    "RecieverPosMatrix = []\n",
    "emf = []\n",
    "\n",
    "#call functions to get satellites position and different tansmission time\n",
    "Pos_SatelsMatrix, Transmission_t = SatellitePosition(phi,theta)\n",
    "NewTranT =  ChangeTranT(Transmission_t)\n",
    "\n",
    "# get Reciever Position in different tansmission time and return emf\n",
    "for t_vector in NewTranT:\n",
    "    InitialVector = np.array([0, 0, 6370, .0001])\n",
    "    RecieverPos = RecieverPosition(Pos_SatelsMatrix,t_vector,InitialVector,N =20)\n",
    "    RecieverPosMatrix.append(RecieverPos)\n",
    "    emf.append(Cal_emf(RecieverPos,RecieverPosMatrix))\n",
    "\n",
    "print('Matrix of Transmition Time Changes\\n\\n', NewTranT)\n",
    "print('')\n",
    "print('Position Matrix\\n', *RecieverPosMatrix, sep=\"\\n\")\n",
    "print('')\n",
    "print('Error Magnification Factor List is:\\n',*emf,sep=\"\\n\")\n",
    "print('')\n",
    "print('The Max Error Magnification Factor or Condition Number is:',np.max(emf)) "
   ]
  },
  {
   "cell_type": "markdown",
   "metadata": {},
   "source": [
    "# IV.) Conclusions"
   ]
  },
  {
   "cell_type": "raw",
   "metadata": {},
   "source": [
    "The project was successful in that we were able to implement Newton's Multivariate Method to solve for a non-linear system of equations. This was a much simpler example than real world configurations for 7 or even 24 satellites with multipath interference from the atmosphere and weather condtions. Yet, the complexity to solve using Newton's method was significant. The questions required significant numpy use including its linear algebra methods. We also used simple math package. \n",
    "\n",
    "Question 1 required iterative methods to solve the system of equations successfully. Question 2 added complexity in that we had to create iterative arrays for functions that calculate values in a position matrix which was then used to help solve for an array of error magnification factors which is a ratio of infinity norms. This task was made more complex by adding in a transmission time change matrix. The output gives us a condition number of 5.475302030946093. \n",
    "For question 3, notice that the close bunched satellites demonstrate asignificantly larger condition number 108391.20673278705 than the loosely bunched satellites in question 2. That is, tightly bunched satellites are less accurate than unbunched satellites so it appears that we again have to ensure that satellites are not too close to eachother otherwise their data output quality can be compromised significantly. "
   ]
  },
  {
   "cell_type": "markdown",
   "metadata": {},
   "source": [
    "# V.) References"
   ]
  },
  {
   "cell_type": "raw",
   "metadata": {},
   "source": [
    "Sauer, T. (2017). Numerical Analysis (3rd ed.). Upper Saddle River, NJ: Pearson.\n",
    "\n",
    "Linear algebra (numpy.linalg) — NumPy v1.20 Manual. (n.d.). Retrieved February 26, 2021, from Numpy.org website: https://numpy.org/doc/stable/reference/routines.linalg.html\n",
    "\n",
    "NumPy for MATLAB users — NumPy v1.20 Manual. (n.d.). Retrieved February 26, 2021, from Numpy.org website: https://numpy.org/doc/stable/user/numpy-for-matlab-users.html\n",
    "\n",
    "Wikipedia contributors. (2021, February 5). Newton’s method in optimization. Retrieved February 26, 2021, from Wikipedia, The Free Encyclopedia website: https://en.wikipedia.org/w/index.php?title=Newton%27s_method_in_optimization&oldid=1004918718\n",
    "\n",
    "10.2-Newton's Iterative Method multi-variables (numerical analysis). Retrieved February 20, 2021, from Youtube.com website: https://www.youtube.com/watch?v=LglNFPwKFrI\n",
    "\n",
    "Matrix Condition Number and Matrix Norms - Well conditioned or Ill conditioned (Numerical Methods). Retrieved February 22, 2021, from Youtube.com website: https://www.youtube.com/watch?v=LglNFPwKFrI"
   ]
  }
 ],
 "metadata": {
  "kernelspec": {
   "display_name": "Python 3",
   "language": "python",
   "name": "python3"
  },
  "language_info": {
   "codemirror_mode": {
    "name": "ipython",
    "version": 3
   },
   "file_extension": ".py",
   "mimetype": "text/x-python",
   "name": "python",
   "nbconvert_exporter": "python",
   "pygments_lexer": "ipython3",
   "version": "3.8.3"
  }
 },
 "nbformat": 4,
 "nbformat_minor": 4
}
